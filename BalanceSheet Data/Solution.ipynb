{
 "cells": [
  {
   "cell_type": "code",
   "execution_count": 1,
   "id": "d0b2ddb1-98f7-4a46-adc9-e604a345e118",
   "metadata": {},
   "outputs": [],
   "source": [
    "import pandas as pd\n",
    "import requests\n",
    "import urllib"
   ]
  },
  {
   "cell_type": "markdown",
   "id": "ced8dee1-577c-41a4-9243-c220ee307fdb",
   "metadata": {},
   "source": [
    "### Downloading the Excel file from the link"
   ]
  },
  {
   "cell_type": "code",
   "execution_count": 4,
   "id": "c4692adb-8f74-4416-b910-6692b5ef2d6e",
   "metadata": {},
   "outputs": [],
   "source": [
    "urllib.request.urlretrieve(\"https://www.sec.gov/Archives/edgar/data/789019/000156459021002316/Financial_Report.xlsx\", \"FinancialReport.xlsx\"); "
   ]
  },
  {
   "cell_type": "code",
   "execution_count": 5,
   "id": "3e12b904-d4f5-4219-a00c-c87d1ba906f1",
   "metadata": {},
   "outputs": [],
   "source": [
    "df=pd.read_excel(\"FinancialReport.xlsx\",'BALANCE SHEETS')"
   ]
  },
  {
   "cell_type": "code",
   "execution_count": 6,
   "id": "aa25b59b-48ef-44ad-9711-0f03a50ecf15",
   "metadata": {},
   "outputs": [],
   "source": [
    "start_asset=df[df['BALANCE SHEETS - USD ($) $ in Millions'].str.contains('Current assets',case=False)].index[0]\n",
    "start_liabilities=df[df['BALANCE SHEETS - USD ($) $ in Millions'].str.contains('Current liabilities',case=False)].index[0]\n",
    "start_stock=df[df['BALANCE SHEETS - USD ($) $ in Millions'].str.contains('Stockholders’ equity',case=False)].index[0]"
   ]
  },
  {
   "cell_type": "markdown",
   "id": "7854ad21-5cbe-4e2e-b185-dff6f0deddfd",
   "metadata": {},
   "source": [
    "### Getting all the rows of Current Liabilities :"
   ]
  },
  {
   "cell_type": "code",
   "execution_count": 7,
   "id": "6e9dd53b-fd37-42f8-a232-e6eaaeb8b3c2",
   "metadata": {},
   "outputs": [
    {
     "data": {
      "text/html": [
       "<div>\n",
       "<style scoped>\n",
       "    .dataframe tbody tr th:only-of-type {\n",
       "        vertical-align: middle;\n",
       "    }\n",
       "\n",
       "    .dataframe tbody tr th {\n",
       "        vertical-align: top;\n",
       "    }\n",
       "\n",
       "    .dataframe thead th {\n",
       "        text-align: right;\n",
       "    }\n",
       "</style>\n",
       "<table border=\"1\" class=\"dataframe\">\n",
       "  <thead>\n",
       "    <tr style=\"text-align: right;\">\n",
       "      <th></th>\n",
       "      <th>BALANCE SHEETS - USD ($) $ in Millions</th>\n",
       "      <th>Dec. 31, 2020</th>\n",
       "      <th>Jun. 30, 2020</th>\n",
       "    </tr>\n",
       "  </thead>\n",
       "  <tbody>\n",
       "    <tr>\n",
       "      <th>16</th>\n",
       "      <td>Accounts payable</td>\n",
       "      <td>12770</td>\n",
       "      <td>12530</td>\n",
       "    </tr>\n",
       "    <tr>\n",
       "      <th>17</th>\n",
       "      <td>Current portion of long-term debt</td>\n",
       "      <td>5387</td>\n",
       "      <td>3749</td>\n",
       "    </tr>\n",
       "    <tr>\n",
       "      <th>18</th>\n",
       "      <td>Accrued compensation</td>\n",
       "      <td>6838</td>\n",
       "      <td>7874</td>\n",
       "    </tr>\n",
       "    <tr>\n",
       "      <th>19</th>\n",
       "      <td>Short-term income taxes</td>\n",
       "      <td>1562</td>\n",
       "      <td>2130</td>\n",
       "    </tr>\n",
       "    <tr>\n",
       "      <th>20</th>\n",
       "      <td>Short-term unearned revenue</td>\n",
       "      <td>30402</td>\n",
       "      <td>36000</td>\n",
       "    </tr>\n",
       "    <tr>\n",
       "      <th>21</th>\n",
       "      <td>Other current liabilities</td>\n",
       "      <td>10527</td>\n",
       "      <td>10027</td>\n",
       "    </tr>\n",
       "    <tr>\n",
       "      <th>22</th>\n",
       "      <td>Total current liabilities</td>\n",
       "      <td>67486</td>\n",
       "      <td>72310</td>\n",
       "    </tr>\n",
       "    <tr>\n",
       "      <th>23</th>\n",
       "      <td>Long-term debt</td>\n",
       "      <td>55136</td>\n",
       "      <td>59578</td>\n",
       "    </tr>\n",
       "    <tr>\n",
       "      <th>24</th>\n",
       "      <td>Long-term income taxes</td>\n",
       "      <td>26701</td>\n",
       "      <td>29432</td>\n",
       "    </tr>\n",
       "    <tr>\n",
       "      <th>25</th>\n",
       "      <td>Long-term unearned revenue</td>\n",
       "      <td>2985</td>\n",
       "      <td>3180</td>\n",
       "    </tr>\n",
       "    <tr>\n",
       "      <th>26</th>\n",
       "      <td>Deferred income taxes</td>\n",
       "      <td>174</td>\n",
       "      <td>204</td>\n",
       "    </tr>\n",
       "    <tr>\n",
       "      <th>27</th>\n",
       "      <td>Operating lease liabilities</td>\n",
       "      <td>8875</td>\n",
       "      <td>7671</td>\n",
       "    </tr>\n",
       "    <tr>\n",
       "      <th>28</th>\n",
       "      <td>Other long-term liabilities</td>\n",
       "      <td>12544</td>\n",
       "      <td>10632</td>\n",
       "    </tr>\n",
       "    <tr>\n",
       "      <th>29</th>\n",
       "      <td>Total liabilities</td>\n",
       "      <td>173901</td>\n",
       "      <td>183007</td>\n",
       "    </tr>\n",
       "    <tr>\n",
       "      <th>30</th>\n",
       "      <td>Commitments and contingencies</td>\n",
       "      <td></td>\n",
       "      <td></td>\n",
       "    </tr>\n",
       "  </tbody>\n",
       "</table>\n",
       "</div>"
      ],
      "text/plain": [
       "   BALANCE SHEETS - USD ($) $ in Millions Dec. 31, 2020 Jun. 30, 2020\n",
       "16                       Accounts payable         12770         12530\n",
       "17      Current portion of long-term debt          5387          3749\n",
       "18                   Accrued compensation          6838          7874\n",
       "19                Short-term income taxes          1562          2130\n",
       "20            Short-term unearned revenue         30402         36000\n",
       "21              Other current liabilities         10527         10027\n",
       "22              Total current liabilities         67486         72310\n",
       "23                         Long-term debt         55136         59578\n",
       "24                 Long-term income taxes         26701         29432\n",
       "25             Long-term unearned revenue          2985          3180\n",
       "26                  Deferred income taxes           174           204\n",
       "27            Operating lease liabilities          8875          7671\n",
       "28            Other long-term liabilities         12544         10632\n",
       "29                      Total liabilities        173901        183007\n",
       "30          Commitments and contingencies                            "
      ]
     },
     "execution_count": 7,
     "metadata": {},
     "output_type": "execute_result"
    }
   ],
   "source": [
    "df.iloc[start_liabilities+1:start_stock]"
   ]
  },
  {
   "cell_type": "markdown",
   "id": "0a65c1bf-530f-4243-ac32-e157bd7f21c0",
   "metadata": {},
   "source": [
    "### What proportion of “Total Current Liabilities” is “Accounts Payable”?"
   ]
  },
  {
   "cell_type": "code",
   "execution_count": 8,
   "id": "936c1454-34a8-4794-ac20-76c85a6198c7",
   "metadata": {},
   "outputs": [
    {
     "name": "stdout",
     "output_type": "stream",
     "text": [
      "Proportion of Accounts Payable to Total Current Liabilities for Dec. 31, 2020 is 0.073\n",
      "Proportion of Accounts Payable to Total Current Liabilities for Jun. 30, 2020 is 0.068\n"
     ]
    }
   ],
   "source": [
    "df_current_liabilities=df.iloc[start_liabilities+1:start_stock].set_index('BALANCE SHEETS - USD ($) $ in Millions').T\n",
    "\n",
    "print(f\"Proportion of Accounts Payable to Total Current Liabilities for {df_current_liabilities.index[0]} is {round((df_current_liabilities['Accounts payable']/df_current_liabilities['Total liabilities'])[0],3)}\")\n",
    "print(f\"Proportion of Accounts Payable to Total Current Liabilities for {df_current_liabilities.index[1]} is {round((df_current_liabilities['Accounts payable']/df_current_liabilities['Total liabilities'])[1],3)}\")"
   ]
  },
  {
   "cell_type": "markdown",
   "id": "e81143bb-24f5-497e-9145-55fdb9770a10",
   "metadata": {},
   "source": [
    "### How much percent is “Total Liabilities and stockholders equity” for both Dec, 31st 2020 more or less than Jun, 30th 2020?"
   ]
  },
  {
   "cell_type": "code",
   "execution_count": 9,
   "id": "4743e694-1cac-4358-b9a9-3b200c67502b",
   "metadata": {},
   "outputs": [
    {
     "name": "stdout",
     "output_type": "stream",
     "text": [
      "Percentage : 0.937901371008692\n"
     ]
    }
   ],
   "source": [
    "df_t=df.set_index('BALANCE SHEETS - USD ($) $ in Millions').T\n",
    "sum_dec31=df_t.iloc[0]['Total liabilities']+df_t.iloc[0]['Total stockholders’ equity']\n",
    "sum_jun30=df_t.iloc[1]['Total liabilities']+df_t.iloc[1]['Total stockholders’ equity']\n",
    "print(f\"Percentage : {(sum_dec31-sum_jun30)/sum_jun30*100}\")"
   ]
  },
  {
   "cell_type": "markdown",
   "id": "fb430ae0-e0d2-492c-b238-0bf6a5f04f23",
   "metadata": {},
   "source": [
    "### Combine all the sheets with the same column names (Dec, 31st 2020 and June 30th 2020) and create a master excel sheet with these two columns. The final master excel sheet should have four columns: the two dates mentioned above, variable name (like Cash and Cash Equivalents) and variable type (like Current Assets)."
   ]
  },
  {
   "cell_type": "code",
   "execution_count": 10,
   "id": "dc23629b-2669-44e8-ada0-9d283ddc5b82",
   "metadata": {},
   "outputs": [],
   "source": [
    "df2 = pd.concat(pd.read_excel('Financial_Report.xlsx', sheet_name=None), ignore_index=True)"
   ]
  },
  {
   "cell_type": "code",
   "execution_count": 17,
   "id": "3341e43f-9686-45d4-9a35-a7ff68cea784",
   "metadata": {},
   "outputs": [],
   "source": [
    "df4 = df2.drop(['Dec. 31, 2020','Jun. 30, 2020'],axis=1)"
   ]
  },
  {
   "cell_type": "code",
   "execution_count": 18,
   "id": "d03a070c-a31a-4364-ac1b-d54eb82a2b04",
   "metadata": {},
   "outputs": [],
   "source": [
    "df2['variablename'] = df4.apply(lambda row: ' or '.join(row.dropna().astype(str)), axis=1)"
   ]
  },
  {
   "cell_type": "code",
   "execution_count": 19,
   "id": "cca4499b-ae98-49bf-ba98-d72d6231042a",
   "metadata": {},
   "outputs": [],
   "source": [
    "df_final = df2[['Dec. 31, 2020','Jun. 30, 2020','variablename']]"
   ]
  },
  {
   "cell_type": "code",
   "execution_count": 20,
   "id": "8780ea79-6600-49d8-bf2c-86307eba9290",
   "metadata": {},
   "outputs": [],
   "source": [
    "start_asset=df_final[df_final['variablename'].str.contains('Current assets',case=False)].index[0]\n",
    "start_liabilities=df_final[df_final['variablename'].str.contains('Current liabilities',case=False)].index[0]\n",
    "start_stock=df_final[df_final['variablename'].str.contains('Stockholders’ equity',case=False)].index[0]"
   ]
  },
  {
   "cell_type": "code",
   "execution_count": 21,
   "id": "c6a7c202-6cf2-4539-bacb-0fa36268ca6d",
   "metadata": {},
   "outputs": [],
   "source": [
    "df_new=df_final.copy()\n",
    "df_new['Type']='NONE'\n",
    "df_new.loc[start_asset+1:start_liabilities,'Type']='Current Assets'\n",
    "df_new.loc[start_liabilities+1:start_stock,'Type']='Current Liabilities'\n",
    "df_new.loc[start_stock+1:,'Type']=\"Stockholder's Equity\"\n",
    "df_new.dropna(inplace=True)"
   ]
  },
  {
   "cell_type": "code",
   "execution_count": 22,
   "id": "7b26c596-a2e1-4491-bc87-5df0db517bac",
   "metadata": {},
   "outputs": [
    {
     "data": {
      "text/html": [
       "<div>\n",
       "<style scoped>\n",
       "    .dataframe tbody tr th:only-of-type {\n",
       "        vertical-align: middle;\n",
       "    }\n",
       "\n",
       "    .dataframe tbody tr th {\n",
       "        vertical-align: top;\n",
       "    }\n",
       "\n",
       "    .dataframe thead th {\n",
       "        text-align: right;\n",
       "    }\n",
       "</style>\n",
       "<table border=\"1\" class=\"dataframe\">\n",
       "  <thead>\n",
       "    <tr style=\"text-align: right;\">\n",
       "      <th></th>\n",
       "      <th>Dec. 31, 2020</th>\n",
       "      <th>Jun. 30, 2020</th>\n",
       "      <th>variablename</th>\n",
       "      <th>Type</th>\n",
       "    </tr>\n",
       "  </thead>\n",
       "  <tbody>\n",
       "    <tr>\n",
       "      <th>83</th>\n",
       "      <td>14432</td>\n",
       "      <td>13576</td>\n",
       "      <td>Cash and cash equivalents</td>\n",
       "      <td>Current Assets</td>\n",
       "    </tr>\n",
       "    <tr>\n",
       "      <th>84</th>\n",
       "      <td>117536</td>\n",
       "      <td>122951</td>\n",
       "      <td>Short-term investments</td>\n",
       "      <td>Current Assets</td>\n",
       "    </tr>\n",
       "    <tr>\n",
       "      <th>85</th>\n",
       "      <td>131968</td>\n",
       "      <td>136527</td>\n",
       "      <td>Total cash, cash equivalents, and short-term i...</td>\n",
       "      <td>Current Assets</td>\n",
       "    </tr>\n",
       "    <tr>\n",
       "      <th>86</th>\n",
       "      <td>27312</td>\n",
       "      <td>32011</td>\n",
       "      <td>Accounts receivable, net of allowance for doub...</td>\n",
       "      <td>Current Assets</td>\n",
       "    </tr>\n",
       "    <tr>\n",
       "      <th>87</th>\n",
       "      <td>1924</td>\n",
       "      <td>1895</td>\n",
       "      <td>Inventories</td>\n",
       "      <td>Current Assets</td>\n",
       "    </tr>\n",
       "    <tr>\n",
       "      <th>...</th>\n",
       "      <td>...</td>\n",
       "      <td>...</td>\n",
       "      <td>...</td>\n",
       "      <td>...</td>\n",
       "    </tr>\n",
       "    <tr>\n",
       "      <th>1067</th>\n",
       "      <td>699</td>\n",
       "      <td>540</td>\n",
       "      <td>Total finance lease liabilities</td>\n",
       "      <td>Stockholder's Equity</td>\n",
       "    </tr>\n",
       "    <tr>\n",
       "      <th>1070</th>\n",
       "      <td>8875</td>\n",
       "      <td>7671</td>\n",
       "      <td>Total operating lease liabilities</td>\n",
       "      <td>Stockholder's Equity</td>\n",
       "    </tr>\n",
       "    <tr>\n",
       "      <th>1073</th>\n",
       "      <td>10819</td>\n",
       "      <td>8956</td>\n",
       "      <td>Total finance lease liabilities</td>\n",
       "      <td>Stockholder's Equity</td>\n",
       "    </tr>\n",
       "    <tr>\n",
       "      <th>1083</th>\n",
       "      <td>10741.0</td>\n",
       "      <td>9287.0</td>\n",
       "      <td>Operating Leases</td>\n",
       "      <td>Stockholder's Equity</td>\n",
       "    </tr>\n",
       "    <tr>\n",
       "      <th>1092</th>\n",
       "      <td>11518.0</td>\n",
       "      <td>9496.0</td>\n",
       "      <td>Finance Leases</td>\n",
       "      <td>Stockholder's Equity</td>\n",
       "    </tr>\n",
       "  </tbody>\n",
       "</table>\n",
       "<p>258 rows × 4 columns</p>\n",
       "</div>"
      ],
      "text/plain": [
       "     Dec. 31, 2020 Jun. 30, 2020  \\\n",
       "83           14432         13576   \n",
       "84          117536        122951   \n",
       "85          131968        136527   \n",
       "86           27312         32011   \n",
       "87            1924          1895   \n",
       "...            ...           ...   \n",
       "1067           699           540   \n",
       "1070          8875          7671   \n",
       "1073         10819          8956   \n",
       "1083       10741.0        9287.0   \n",
       "1092       11518.0        9496.0   \n",
       "\n",
       "                                           variablename                  Type  \n",
       "83                            Cash and cash equivalents        Current Assets  \n",
       "84                               Short-term investments        Current Assets  \n",
       "85    Total cash, cash equivalents, and short-term i...        Current Assets  \n",
       "86    Accounts receivable, net of allowance for doub...        Current Assets  \n",
       "87                                          Inventories        Current Assets  \n",
       "...                                                 ...                   ...  \n",
       "1067                    Total finance lease liabilities  Stockholder's Equity  \n",
       "1070                  Total operating lease liabilities  Stockholder's Equity  \n",
       "1073                    Total finance lease liabilities  Stockholder's Equity  \n",
       "1083                                   Operating Leases  Stockholder's Equity  \n",
       "1092                                     Finance Leases  Stockholder's Equity  \n",
       "\n",
       "[258 rows x 4 columns]"
      ]
     },
     "execution_count": 22,
     "metadata": {},
     "output_type": "execute_result"
    }
   ],
   "source": [
    "df_new"
   ]
  },
  {
   "cell_type": "code",
   "execution_count": 23,
   "id": "4cea44b0-67a7-40a9-a259-3b2d1c7a559a",
   "metadata": {},
   "outputs": [],
   "source": [
    "df_new.to_excel(\"MasterSheet.xlsx\",index=False)"
   ]
  }
 ],
 "metadata": {
  "kernelspec": {
   "display_name": "Python 3",
   "language": "python",
   "name": "python3"
  },
  "language_info": {
   "codemirror_mode": {
    "name": "ipython",
    "version": 3
   },
   "file_extension": ".py",
   "mimetype": "text/x-python",
   "name": "python",
   "nbconvert_exporter": "python",
   "pygments_lexer": "ipython3",
   "version": "3.8.8"
  }
 },
 "nbformat": 4,
 "nbformat_minor": 5
}
