{
 "metadata": {
  "language_info": {
   "codemirror_mode": {
    "name": "ipython",
    "version": 3
   },
   "file_extension": ".py",
   "mimetype": "text/x-python",
   "name": "python",
   "nbconvert_exporter": "python",
   "pygments_lexer": "ipython3",
   "version": "3.9.5"
  },
  "orig_nbformat": 4,
  "kernelspec": {
   "name": "python3",
   "display_name": "Python 3.9.5 64-bit"
  },
  "interpreter": {
   "hash": "a8b97659b4ac75e34b08cbb60f741f6fa1b09294bdc88c93c69cd97922217a91"
  }
 },
 "nbformat": 4,
 "nbformat_minor": 2,
 "cells": [
  {
   "source": [
    "<h1>IMPORTING NETFLIX STOCK DATA FROM YAHOO FINANCE WEBSITE USING SELENIUM AND BEAUTIFUL SOUP AND PLOTTING IT</h1>\n",
    "<h3>Line Chart</h3>\n",
    "<h3>Bar Chart</h3>\n",
    "<h3>Candlestick Chart</h3>"
   ],
   "cell_type": "markdown",
   "metadata": {}
  },
  {
   "cell_type": "code",
   "execution_count": 1,
   "metadata": {},
   "outputs": [],
   "source": [
    "import pandas as pd\n",
    "import requests\n",
    "import plotly.graph_objects as go\n",
    "from datetime import datetime\n",
    "from bs4 import BeautifulSoup\n",
    "from selenium import webdriver\n",
    "import chromedriver_binary\n",
    "import string\n",
    "import matplotlib.pyplot as plt"
   ]
  },
  {
   "cell_type": "code",
   "execution_count": 2,
   "metadata": {},
   "outputs": [],
   "source": [
    "#Defining URL from where the stock data will be pulled\n",
    "url = \"https://finance.yahoo.com/quote/NFLX/history?period1=1439078400&period2=1623196800&interval=1mo&filter=history&frequency=1mo&includeAdjustedClose=true\"\n",
    "\n",
    "#Initilizing Selenium driver which will be using Chrome to fetch the HTML page from the URL above\n",
    "driver = webdriver.Chrome()\n",
    "driver.get(url)\n",
    "html = driver.execute_script('return document.body.innerHTML;')\n",
    "\n",
    "#HTML is converted into BeautifulSoup object\n",
    "soup = BeautifulSoup(html,'html5lib')"
   ]
  },
  {
   "cell_type": "code",
   "execution_count": 3,
   "metadata": {},
   "outputs": [],
   "source": [
    "#creating empty dataframe\n",
    "netflix_data = pd.DataFrame(columns=[\"Date\", \"Open\", \"High\", \"Low\", \"Close\", \"Volume\"])"
   ]
  },
  {
   "cell_type": "code",
   "execution_count": 4,
   "metadata": {},
   "outputs": [
    {
     "output_type": "execute_result",
     "data": {
      "text/plain": [
       "px\\) {\n",
       "  margin-left: 40px;\n",
       "}\n",
       "#a2csn .Mstart\\(80px\\) {\n",
       "  margin-left: 80px;\n",
       "}\n",
       "#a2csn .Mstart\\(990px\\) {\n",
       "  margin-left: 990px;\n",
       "}\n",
       "#a2csn .Maw\\(1340px\\) {\n",
       "  max-width: 1340px;\n",
       "}\n",
       "#a2csn .Mih\\(100\\%\\) {\n",
       "  min-height: 100%;\n",
       "}\n",
       "#a2csn .Mih\\(200px\\) {\n",
       "  min-height: 200px;\n",
       "}\n",
       "#a2csn .Mih\\(254px\\) {\n",
       "  min-height: 254px;\n",
       "}\n",
       "#a2csn .Mih\\(750px\\) {\n",
       "  min-height: 750px;\n",
       "}\n",
       "#a2csn .Mih\\(94px\\) {\n",
       "  min-height: 94px;\n",
       "}\n",
       "#a2csn .Miw\\(980px\\) {\n",
       "  min-width: 980px;\n",
       "}\n",
       "#a2csn .O\\(n\\) {\n",
       "  outline: none;\n",
       "}\n",
       "#a2csn .T\\(0\\) {\n",
       "  top: 0;\n",
       "}\n",
       "#a2csn .T\\(25px\\) {\n",
       "  top: 25px;\n",
       "}\n",
       "#a2csn .T\\(305px\\) {\n",
       "  top: 305px;\n",
       "}\n",
       "#a2csn .T\\(335px\\) {\n",
       "  top: 335px;\n",
       "}\n",
       "#a2csn .T\\(65px\\) {\n",
       "  top: 65px;\n",
       "}\n",
       "#a2csn .T\\(90px\\) {\n",
       "  top: 90px;\n",
       "}\n",
       "#a2csn .End\\(0\\%\\) {\n",
       "  right: 0%;\n",
       "}\n",
       "#a2csn .End\\(0\\) {\n",
       "  right: 0;\n",
       "}\n",
       "#a2csn .End\\(20px\\) {\n",
       "  right: 20px;\n",
       "}\n",
       "#a2csn .End\\(a\\) {\n",
       "  right: auto;\n",
       "}\n",
       "#a2csn .B\\(0\\) {\n",
       "  bottom: 0;\n",
       "}\n",
       "#a2csn .Start\\(0\\) {\n",
       "  left: 0;\n",
       "}\n",
       "#a2csn .Start\\(20\\%\\) {\n",
       "  left: 20%;\n",
       "}\n",
       ".modal-open .modal-open_Op\\(1\\) {\n",
       "  opacity: 1 !important;\n",
       "}\n",
       "#a2csn .Op\\(0\\) {\n",
       "  opacity: 0;\n",
       "}\n",
       "#a2csn .Ov\\(h\\), .Hidden {\n",
       "  overflow: hidden;\n",
       "}\n",
       "#a2csn .Ovx\\(h\\) {\n",
       "  overflow-x: hidden;\n",
       "}\n",
       "#a2csn .P\\(8px\\) {\n",
       "  padding: 8px;\n",
       "}\n",
       "#a2csn .Px\\(15px\\) {\n",
       "  padding-left: 15px;\n",
       "  padding-right: 15px;\n",
       "}\n",
       "#a2csn .Px\\(40px\\) {\n",
       "  padding-left: 40px;\n",
       "  padding-right: 40px;\n",
       "}\n",
       "#a2csn .Py\\(24px\\), #a2csn .Pt\\(24px\\) {\n",
       "  padding-top: 24px;\n",
       "}\n",
       "#a2csn .Py\\(24px\\) {\n",
       "  padding-bottom: 24px;\n",
       "}\n",
       "#a2csn .Pt\\(25px\\) {\n",
       "  padding-top: 25px;\n",
       "}\n",
       "#a2csn .Pt\\(30px\\) {\n",
       "  padding-top: 30px;\n",
       "}\n",
       "#a2csn .Pt\\(50px\\) {\n",
       "  padding-top: 50px;\n",
       "}\n",
       "#a2csn .Pt\\(54px\\) {\n",
       "  padding-top: 54px;\n",
       "}\n",
       "#a2csn .Pt\\(5px\\) {\n",
       "  padding-top: 5px;\n",
       "}\n",
       "#a2csn .Pt\\(80px\\) {\n",
       "  padding-top: 80px;\n",
       "}\n",
       "#a2csn .Pt\\(8px\\) {\n",
       "  padding-top: 8px;\n",
       "}\n",
       ".caas-video-docked .caas-video-docked_Pb\\(185px\\) {\n",
       "  padding-bottom: 185px !important;\n",
       "}\n",
       "#a2csn .Pb\\(10px\\) {\n",
       "  padding-bottom: 10px;\n",
       "}\n",
       "#a2csn .Pb\\(20px\\) {\n",
       "  padding-bottom: 20px;\n",
       "}\n",
       "#a2csn .Pb\\(60px\\) {\n",
       "  padding-bottom: 60px;\n",
       "}\n",
       "#a2csn .Pos\\(a\\) {\n",
       "  position: absolute;\n",
       "}\n",
       "#a2csn .Pos\\(f\\) {\n",
       "  position: fixed;\n",
       "}\n",
       "#a2csn .Pos\\(r\\) {\n",
       "  position: relative;\n",
       "}\n",
       "#a2csn .Ta\\(c\\) {\n",
       "  text-align: center;\n",
       "}\n",
       "#a2csn .Td\\(n\\) {\n",
       "  text-decoration: none;\n",
       "}\n",
       "#a2csn .Trs\\(\\$pageTransition\\) {\n",
       "  transition: opacity .2s ease-in-out;\n",
       "}\n",
       "#a2csn .Va\\(b\\) {\n",
       "  vertical-align: bottom;\n",
       "}\n",
       ".modal-open .modal-open_V\\(v\\) {\n",
       "  visibility: visible !important;\n",
       "}\n",
       "#a2csn .V\\(h\\) {\n",
       "  visibility: hidden;\n",
       "}\n",
       "#a2csn .W\\(\\$modalWidth\\) {\n",
       "  width: calc(100% - 335px);\n",
       "}\n",
       "#a2csn .W\\(100\\%\\) {\n",
       "  width: 100%;\n",
       "}\n",
       "#a2csn .W\\(1050px\\) {\n",
       "  width: 1050px;\n",
       "}\n",
       "#a2csn .W\\(300px\\) {\n",
       "  width: 300px;\n",
       "}\n",
       "#a2csn .W\\(37px\\) {\n",
       "  width: 37px;\n",
       "}\n",
       "#a2csn .W\\(50\\%\\) {\n",
       "  width: 50%;\n",
       "}\n",
       "#a2csn .W\\(64px\\) {\n",
       "  width: 64px;\n",
       "}\n",
       "#a2csn .W\\(80\\%\\) {\n",
       "  width: 80%;\n",
       "}\n",
       "#a2csn .Z\\(1\\) {\n",
       "  z-index: 1;\n",
       "}\n",
       "#a2csn .Z\\(10\\) {\n",
       "  z-index: 10;\n",
       "}\n",
       "#a2csn .Z\\(11\\) {\n",
       "  z-index: 11;\n",
       "}\n",
       "#a2csn .Z\\(12\\) {\n",
       "  z-index: 12;\n",
       "}\n",
       "#a2csn .Z\\(9\\) {\n",
       "  z-index: 9;\n",
       "}\n",
       ".close-btn:hover .close-btn\\:h_Fill\\(\\#6001d2\\) {\n",
       "  fill: #6001d2 !important;\n",
       "}\n",
       "#a2csn .Fill\\(\\#1d2228\\) {\n",
       "  fill: #1d2228;\n",
       "}\n",
       "#a2csn .Fill\\(\\#fff\\) {\n",
       "  fill: #fff;\n",
       "}\n",
       "#a2csn .Stk\\(\\#fff\\) {\n",
       "  stroke: #fff;\n",
       "}\n",
       "#a2csn .Stkw\\(2\\) {\n",
       "  stroke-width: 2;\n",
       "}\n",
       ".BdT {\n",
       "  border-right-width: 0;\n",
       "  border-bottom-width: 0;\n",
       "  border-left-width: 0;\n",
       "  border-style: solid;\n",
       "}\n",
       ".Hidden {\n",
       "  position: absolute !important;\n",
       "  *clip: rect(1px 1px 1px 1px);\n",
       "  clip: rect(1px,1px,1px,1px);\n",
       "  padding: 0 !important;\n",
       "  border: 0 !important;\n",
       "  height: 1px !important;\n",
       "  width: 1px !important;\n",
       "}\n",
       "@media(max-width:1064px) {\n",
       "  #a2csn .End\\(20px\\)\\!--maw1064[class] {\n",
       "    right: 20px !important;\n",
       "  }\n",
       "  #a2csn .B\\(a\\)--maw1064[class] {\n",
       "    bottom: auto;\n",
       "  }\n",
       "  #a2csn .Pos\\(s\\)--maw1064[class] {\n",
       "    position: static;\n",
       "  }\n",
       "}\n",
       "@media(min-width:1400px) {\n",
       "  #a2csn .End\\(a\\)--miw1400[class] {\n",
       "    right: auto;\n",
       "  }\n",
       "}\n",
       "</style><style>\n",
       "    #a2csn #viewer-LREC2 #viewer-LREC2-iframe,\n",
       "    #a2csn #viewer-LREC-2 #viewer-LREC-2-iframe,\n",
       "    #a2csn #viewer-LREC2-2 #viewer-LREC2-2-iframe\n",
       "    #a2csn #viewer-LREC-3 #viewer-LREC-3-iframe,\n",
       "    #a2csn #viewer-LREC2-3 #viewer-LREC2-3-iframe {\n",
       "        width: 300px!important;\n",
       "        height: 250px!important;\n",
       "        margin-bottom: 0!important;\n",
       "    }\n",
       "    #a2csn .caas-sda {\n",
       "        margin-bottom: 20px!important;\n",
       "    }\n",
       "</style><div id=\"a2csn\"><div aria-hidden=\"true\" class=\"viewer-grid Pos(r) Z(9) W(100%) Bgc(#fff) Pt(80px) Pb(10px) Bxz(bb) V(h) Op(0) H(0) Ov(h) modal-open_H(a) modal-open_Op(1) modal-open_V(v) Trs($pageTransition)\" id=\"viewer\"><div class=\"Mx(a) Maw(1340px) Miw(980px) W(100%) Bxz(bb) Pt(5px)\" id=\"content-viewer\"></div></div></div><template class=\"D(n)\" id=\"content-viewer-template\" type=\"wafer\"><div class=\"viewer-wrapper\" data-test-locator=\"homepage-viewer\" id=\"homepage-viewer\"><div class=\"Flx($flexFullWidth) Mih(94px) Mb(15px) viewer-sda-container\" data-content=\"\"><div class=\"Flx($flexFullWidth) Ta(c)\" id=\"viewer-LDRB\"><div id=\"viewer-LDRB-iframe\"></div></div><div class=\"Flx($flexFullWidth) Ta(c)\" id=\"viewer-MAST\"><div id=\"viewer-MAST-iframe\"></div></div></div><div class=\"viewer-wrapper Px(40px) Pb(20px) Pos(r) H(100%) Bgc(#fff) D(f) Flw(w) Jc(sb) Ai(fs) Bxsh($viewerShadow) Bdrs(6px) Cur(d)\"><button class=\"close-btn Bdrs(37px) Bgc(#fff) C(#fff) Fw(b) Fz(17px) W(64px) H(64px) P(8px) Pos(f) Mstart(1270px) Mt(10px) End(20px) End(a)--miw1400 Z(11) Bxsh($closeBtnShadow) O(n) modal-closing_D(n)\" id=\"closebtn\"><svg class=\"Cur(p) Fill(#1d2228) close-btn:h_Fill(#6001d2) Va(b)\" height=\"30\" style=\"-mox-transform:translateX(-1px);\" viewBox=\"-1 -1 50 50\" width=\"30\"><path d=\"M37.98 34.827l-9.9-9.9 9.9-9.898c.78-.782.78-2.05 0-2.83-.78-.78-2.047-.78-2.828 0l-9.9 9.9-9.898-9.9c-.78-.78-2.048-.78-2.828 0-.78.78-.78 2.047 0 2.828l9.9 9.9-9.9 9.898c-.78.78-.78 2.047 0 2.828.78.78 2.047.78 2.828 0l9.9-9.9 9.898 9.9c.78.78 2.048.78 2.828 0 .782-.78.782-2.047 0-2.827z\"></path></svg><b class=\"Td(n) Hidden\">Close this content, you can also use the Escape key at anytime</b></button><div class=\"content-col-wrapper Mih(750px) Pt(25px) W($modalWidth)\" id=\"content-articles-wrapper\"><div class=\"content-col\"><div class=\"wafer-caas Mb(40px)\" data-comments-id=\"mainArticleIdComments\" data-wf-caas-timeout=\"1000\" data-wf-caas-trigger=\"stateChange\" data-wf-caas-wrapper=\"content-articles-wrapper\" data-wf-state-caas-category-label=\"[state.viewerMainArticleCategoryLabel]\" data-wf-state-caas-collapsed=\"[state.viewerMainArticleCollapsed]\" data-wf-state-caas-uuid=\"[state.viewerMainArticleId]\" data-yaft-module=\"homepage-viewer-main-article\" id=\"mainArticle\"><div class=\"H(740px) W(100%) Bg(#fff) Bxz(bb)\"><div class=\"Bg(#e6e6e6) Pos(r) W(100%) H(100%)\"><div class=\"Pos(a) Bg(#fff) Start(0) T(0) W(100%) H(15px)\"></div><div class=\"Pos(a) Bg(#fff) T(25px) End(0) W(100%) H(15px)\"></div><div class=\"Pos(a) Bg(#fff) Start(20%) T(65px) W(50%) H(30px)\"></div><div class=\"Pos(a) Bg(#fff) T(65px) End(0) W(100%) H(15px)\"></div><div class=\"Pos(a) Bg(#fff) H(30px) W(80%) End(0%)\"></div><div class=\"Pos(a) Bg(#fff) T(90px) End(0) W(100%) H(15px)\"></div><div class=\"Pos(a) Bg(#fff) T(305px) End(0) W(100%) H(20px)\"></div><div class=\"Pos(a) Bg(#fff) Start(0) T(335px) W(100%) H(15px)\"></div></div></div></div><div class=\"Mstart(80px) Ta(c)\" id=\"viewer-WIDGET\"><div id=\"viewer-WIDGET-iframe\"></div></div><div class=\"Mb(40px)\" id=\"mainArticleIdComments\"></div><div class=\"cluster0_D(n)\"><div class=\"wafer-caas Mb(40px) Mih(200px) Bdtw(1px) Bdtc(#b2b2b2) Bdts(s) Pt(50px)\" data-comments-id=\"clusterArticleId1Comments\" data-wf-caas-dependency=\"#mainArticle\" data-wf-caas-trigger=\"viewport\" data-wf-caas-wrapper=\"content-articles-wrapper\" data-wf-state-caas-uuid=\"[state.viewerClusterArticleId1]\" id=\"clusterArticle1\"><div class=\"H(740px) W(100%) Bg(#fff) Bxz(bb)\"><div class=\"Bg(#e6e6e6) Pos(r) W(100%) H(100%)\"><div class=\"Pos(a) Bg(#fff) Start(0) T(0) W(100%) H(15px)\"></div><div class=\"Pos(a) Bg(#fff) T(25px) End(0) W(100%) H(15px)\"></div><div class=\"Pos(a) Bg(#fff) Start(20%) T(65px) W(50%) H(30px)\"></div><div class=\"Pos(a) Bg(#fff) T(65px) End(0) W(100%) H(15px)\"></div><div class=\"Pos(a) Bg(#fff) H(30px) W(80%) End(0%)\"></div><div class=\"Pos(a) Bg(#fff) T(90px) End(0) W(100%) H(15px)\"></div><div class=\"Pos(a) Bg(#fff) T(305px) End(0) W(100%) H(20px)\"></div><div class=\"Pos(a) Bg(#fff) Start(0) T(335px) W(100%) H(15px)\"></div></div></div></div><div class=\"Mb(40px)\" id=\"clusterArticleId1Comments\"></div><div class=\"wafer-caas Mb(40px) Mih(200px) Bdtw(1px) Bdtc(#b2b2b2) Bdts(s) Pt(50px)\" data-comments-id=\"clusterArticleId2Comments\" data-wf-caas-dependency=\"#mainArticle\" data-wf-caas-trigger=\"viewport\" data-wf-caas-wrapper=\"content-articles-wrapper\" data-wf-state-caas-uuid=\"[state.viewerClusterArticleId2]\" id=\"clusterArticle2\"><div class=\"H(740px) W(100%) Bg(#fff) Bxz(bb)\"><div class=\"Bg(#e6e6e6) Pos(r) W(100%) H(100%)\"><div class=\"Pos(a) Bg(#fff) Start(0) T(0) W(100%) H(15px)\"></div><div class=\"Pos(a) Bg(#fff) T(25px) End(0) W(100%) H(15px)\"></div><div class=\"Pos(a) Bg(#fff) Start(20%) T(65px) W(50%) H(30px)\"></div><div class=\"Pos(a) Bg(#fff) T(65px) End(0) W(100%) H(15px)\"></div><div class=\"Pos(a) Bg(#fff) H(30px) W(80%) End(0%)\"></div><div class=\"Pos(a) Bg(#fff) T(90px) End(0) W(100%) H(15px)\"></div><div class=\"Pos(a) Bg(#fff) T(305px) End(0) W(100%) H(20px)\"></div><div class=\"Pos(a) Bg(#fff) Start(0) T(335px) W(100%) H(15px)\"></div></div></div></div><div class=\"Mb(40px)\" id=\"clusterArticleId2Comments\"></div><div class=\"wafer-caas D(n) cluster3_D(b) cluster4_D(b) cluster5_D(b) Mb(40px) Mih(200px) Bdtw(1px) Bdtc(#b2b2b2) Bdts(s) Pt(50px)\" data-comments-id=\"clusterArticleId3Comments\" data-wf-caas-dependency=\"#mainArticle\" data-wf-caas-trigger=\"viewport\" data-wf-caas-wrapper=\"content-articles-wrapper\" data-wf-state-caas-uuid=\"[state.viewerClusterArticleId3]\" id=\"clusterArticle3\"></div><div class=\"D(n) cluster3_D(b) cluster4_D(b) cluster5_D(b) Mb(40px)\" id=\"clusterArticleId3Comments\"></div><div class=\"wafer-caas D(n) cluster4_D(b) cluster5_D(b) Mb(40px) Mih(200px) Bdtw(1px) Bdtc(#b2b2b2) Bdts(s) Pt(50px)\" data-comments-id=\"clusterArticleId4Comments\" data-wf-caas-dependency=\"#mainArticle\" data-wf-caas-trigger=\"viewport\" data-wf-caas-wrapper=\"content-articles-wrapper\" data-wf-state-caas-uuid=\"[state.viewerClusterArticleId4]\" id=\"clusterArticle4\"></div><div class=\"D(n) cluster4_D(b) cluster5_D(b) Mb(40px)\" id=\"clusterArticleId4Comments\"></div><div class=\"wafer-caas D(n) cluster5_D(b) Mb(40px) Mih(200px) Bdtw(1px) Bdtc(#b2b2b2) Bdts(s) Pt(50px)\" data-comments-id=\"clusterArticleId5Comments\" data-wf-caas-dependency=\"#mainArticle\" data-wf-caas-trigger=\"viewport\" data-wf-caas-wrapper=\"content-articles-wrapper\" data-wf-state-caas-uuid=\"[state.viewerClusterArticleId5]\" id=\"clusterArticle5\"></div><div class=\"D(n) cluster5_D(b) Mb(40px)\" id=\"clusterArticleId5Comments\"></div></div></div></div><div class=\"Pos(r) W(300px) Pt(25px)\" id=\"viewer-aside\"><section><div class=\"wafer-rapid-module\" id=\"module-quoteLookup\"><div class=\"wafer-fetch-container wafer-fetch\" data-wf-body='{\"m_id\":\"react-finance.rmp\",\"ctrl\":\"QuoteLookup\",\"m_mode\":\"json\",\"config\":{\"containerClassNames\":\"W(100%) Mb(20px)  O(n):f O(n):h\",\"submitButtonClassName\":\"End(1px) H(32px) Lh(n) Va(m) Pos(a) Bdrs(2px) Px(10px) Bd Bgc($linkColor) Bgc($linkActiveColor):h Bdc($linkColor)\",\"xhrPathPrefix\":\"/fin_ms/_td/remote\",\"clientPageContext\":\"[state.viewerMainArticlePubBlob]\",\"pageContext\":{},\"ncpQueryParams\":{\"geminiDedupeToken\":\"\"}}}' data-wf-cache-strategy=\"networkFirst\" data-wf-replace=\"1\" data-wf-retry-count=\"2\" data-wf-timeout=\"5000\" data-wf-trigger=\"viewport\" data-wf-trigger-offset=\"600 0\" data-wf-url=\"/fin_ms/_td/remote?m_id=react-finance.rmp&amp;ctrl=QuoteLookup&amp;module=quoteLookup&amp;site=finance&amp;device=desktop&amp;lang=en-US&amp;region=US&amp;bucket=fdw-brkrctr-0,a2-plutus-rr-3,fd-researchreport-fhp-2,fd-enh-plutus-1,fd-rr-hp-rr-1,finance-us-web-xray-upsell-2&amp;rid=5ebajt9ge01cl&amp;m_mode=json\" id=\"wafer-quoteLookup\"><div class=\"pholder-bg wafer-fetch-error_D(n) grid\"><div class=\"pholder\"><div class=\"ph-title\"></div><div class=\"ph-block\"></div></div></div></div></div><div class=\"wafer-rapid-module\" id=\"module-relatedQuotes\"><div class=\"wafer-fetch-container wafer-fetch\" data-wf-cache-strategy=\"networkFirst\" data-wf-replace=\"1\" data-wf-retry-count=\"2\" data-wf-state-body='{\"m_id\":\"react-finance.rmp\",\"ctrl\":\"RelatedQuotes\",\"m_mode\":\"json\",\"config\":{\"containerClassNames\":\"My(10px)\",\"uuid\":\"[state.viewerMainArticleId]\",\"xhrPathPrefix\":\"/fin_ms/_td/remote\",\"clientPageContext\":\"[state.viewerMainArticlePubBlob]\",\"pageContext\":{},\"ncpQueryParams\":{\"geminiDedupeToken\":\"\"}}}' data-wf-timeout=\"5000\" data-wf-trigger=\"stateChange\" data-wf-trigger-offset=\"600 0\" data-wf-url=\"/fin_ms/_td/remote?m_id=react-finance.rmp&amp;ctrl=RelatedQuotes&amp;module=relatedQuotes&amp;site=finance&amp;device=desktop&amp;lang=en-US&amp;region=US&amp;bucket=fdw-brkrctr-0,a2-plutus-rr-3,fd-researchreport-fhp-2,fd-enh-plutus-1,fd-rr-hp-rr-1,finance-us-web-xray-upsell-2&amp;rid=5ebajt9ge01cl&amp;m_mode=json\" id=\"wafer-relatedQuotes\"><div class=\"pholder-bg wafer-fetch-error_D(n) grid\"><div class=\"pholder\"><div class=\"ph-title\"></div><div class=\"ph-block\"></div></div></div></div></div><div class=\"wafer-rapid-module\" id=\"module-recentQuotes\"><div class=\"wafer-fetch-container wafer-fetch\" data-wf-body='{\"m_id\":\"react-finance.rmp\",\"ctrl\":\"RecentQuotes\",\"m_mode\":\"json\",\"config\":{\"containerClassNames\":\"Mt(10px) Mb(20px)\",\"xhrPathPrefix\":\"/fin_ms/_td/remote\",\"clientPageContext\":\"[state.viewerMainArticlePubBlob]\",\"pageContext\":{},\"ncpQueryParams\":{\"geminiDedupeToken\":\"\"}}}' data-wf-cache-strategy=\"networkFirst\" data-wf-replace=\"1\" data-wf-retry-count=\"2\" data-wf-timeout=\"5000\" data-wf-trigger=\"viewport\" data-wf-trigger-offset=\"600 0\" data-wf-url=\"/fin_ms/_td/remote?m_id=react-finance.rmp&amp;ctrl=RecentQuotes&amp;module=recentQuotes&amp;site=finance&amp;device=desktop&amp;lang=en-US&amp;region=US&amp;bucket=fdw-brkrctr-0,a2-plutus-rr-3,fd-researchreport-fhp-2,fd-enh-plutus-1,fd-rr-hp-rr-1,finance-us-web-xray-upsell-2&amp;rid=5ebajt9ge01cl&amp;m_mode=json\" id=\"wafer-recentQuotes\"><div class=\"pholder-bg wafer-fetch-error_D(n) grid\"><div class=\"pholder\"><div class=\"ph-title\"></div><div class=\"ph-block\"></div></div></div></div></div></section><div class=\"aside-sticky W(300px) Pos(s)--maw1064 B(a)--maw1064\"><div class=\"Mih(254px) viewer-sda-container\" data-content=\"\"><div id=\"viewer-LREC\"><div id=\"viewer-LREC-iframe\"></div></div><div id=\"viewer-MON\"><div id=\"viewer-MON-iframe\"></div></div></div><section><div class=\"wafer-rapid-module Mt(10px)\" id=\"module-monalixaRightRail\"><script>\n",
       "                    window.performance.mark('monalixaRightRail');\n",
       "                    window.performance.measure('monalixaRightRailDone','PageStart','monalixaRightRail');\n",
       "                    </script></div></section><div class=\"wafer-caas wafer-rapid-module\" data-wf-caas-cache-strategy=\"networkFirst\" data-wf-caas-load-assets=\"1\" data-wf-caas-second-node=\"modal-sidekick-1\" data-wf-caas-trigger=\"stateChange\" data-wf-caas-type=\"sidekick\" data-wf-state-caas-url=\"[state.sidekick]\" data-yaft-module=\"homepage-viewer-sidekick\" id=\"modal-sidekick-0\"> </div><div id=\"viewer-LREC2\"><div id=\"viewer-LREC2-iframe\"></div></div><div class=\"wafer-rapid-module\" id=\"modal-sidekick-1\"> </div><div id=\"viewer-LREC3\"><div id=\"viewer-LREC3-iframe\"></div></div><div class=\"Mt(20px)\" id=\"viewer-LREC4\"><div id=\"viewer-LREC4-iframe\"></div></div><div class=\"caas-video-docked_Pb(185px)\" id=\"viewer-MON2\"><div id=\"viewer-MON2-iframe\"></div></div></div></div><div class=\"Mstart(183px)\" id=\"viewer-LDRB2\"><div id=\"viewer-LDRB2-iframe\"></div></div><div class=\"D(ib)\" id=\"viewer-FSRVY\"><div id=\"viewer-FSRVY-iframe\"></div></div><div class=\"W(100%) Mt(30px)\" id=\"viewer-spotIm-pitc-root\"></div><section class=\"Pt(30px) W(100%)\"><div class=\"wafer-rapid-module\" id=\"module-relatedStories\"><div class=\"wafer-fetch-container wafer-fetch\" data-wf-cache-strategy=\"networkFirst\" data-wf-replace=\"1\" data-wf-retry-count=\"2\" data-wf-state-body='{\"m_id\":\"tdv2-wafer-content-list\",\"ctrl\":\"TopicItems\",\"m_mode\":\"json\",\"config\":{\"adItemClasses\":{\"itemContentClasses\":\"Bdrs(8px) Mih(120px)\",\"itemImgWrapperClasses\":\"Pos(r) Mt(1.875%) Mb(1.875%) Ov(h) Fxs(0) Z(0) Bdrs(8px)\",\"itemProviderClasses\":\"C($c-fuji-grey-h) Pt(16px) Pb(10px) D(f) Ai(c) Fz(12px) Fw(600) Lh(15px) Z(2)\",\"geminiDropdownClasses\":\"T(14px) End(0)\"},\"ads\":{\"gemini\":{\"adsFrequency\":3,\"adsMultiModuleDedupeEnabled\":false,\"adsType\":\"STRM,STRM_CONTENT\",\"adsSectionId\":4492794,\"adsImageTags\":\"300x157|2|80\",\"adsEnabled\":true,\"adsStartIndex\":3,\"spaceId\":\"[state.viewerMainArticleSpaceId]\"}},\"categoryName\":\"relatedTopicContent\",\"configName\":\"TopicItems/componentTopicItemsOnViewer\",\"forceLoadImage\":false,\"isFirstModuleWithGemini\":true,\"itemClasses\":{\"itemProviderClasses\":\"C($providerColor) Mb(6px) Mt(14px) Fw(500) Fz(12px) Lts(0.5px)\",\"providerNameClasses\":\"D(ib) Mt(2px) Mb(4px)\"},\"itemConfig\":{\"showComments\":false,\"showPlayIcon\":true,\"showProviderLogo\":false},\"ncpQueryParams\":{\"configId\":\"contentsim-a20\",\"count\":10,\"snippetCount\":10,\"uuid\":\"[state.viewerMainArticleId]\",\"streamBucketId\":\"contentsim-nrtcoview\",\"device\":\"desktop\",\"geminiDedupeToken\":\"\"},\"useContentSite\":false,\"adMeta\":{\"enableAdFeedbackV2\":true,\"enableAdLiteUpSellFeedback\":true,\"layoutType\":\"narrow\"},\"geminiThumbnailSize\":\"lite\",\"imageSizes\":{\"default\":\"300x168|2|80\",\"lite\":\"300x157|2|80\"},\"headerConfig\":{\"headerLinkClasses\":\"Tt(n)\",\"headerTitleClasses\":\"\",\"title\":\"Recommended Stories\"},\"xhrPathPrefix\":\"/nel_ms/_rcv/remote\",\"clientPageContext\":\"[state.viewerMainArticlePubBlob]\",\"pageContext\":{}}}' data-wf-timeout=\"5000\" data-wf-trigger=\"stateChange\" data-wf-trigger-offset=\"600 0\" data-wf-url=\"/nel_ms/_rcv/remote?m_id=tdv2-wafer-content-list&amp;ctrl=TopicItems&amp;module=relatedStories&amp;site=finance&amp;device=desktop&amp;lang=en-US&amp;region=US&amp;bucket=fdw-brkrctr-0,a2-plutus-rr-3,fd-researchreport-fhp-2,fd-enh-plutus-1,fd-rr-hp-rr-1,finance-us-web-xray-upsell-2&amp;rid=5ebajt9ge01cl&amp;m_mode=json\" id=\"wafer-relatedStories\"><div class=\"pholder-bg wafer-fetch-error_D(n) grid\"><div class=\"pholder\"><div class=\"ph-title\"></div><div class=\"ph-block\"></div></div></div></div></div></section></div></div></template><div class=\"wafer-template\" data-wf-state-statetrigger=\"[state.showViewer]\" data-wf-template-allow-rerender=\"1\" data-wf-template-id=\"content-viewer-template\" data-wf-template-on=\"stateChange\" data-wf-template-target=\"#content-viewer\"></div><template id=\"wafer-lightbox-wrapper-template\"><div class=\"wafer-lightbox-wrapper\" tabindex=\"-1\"><div class=\"wafer-lightbox-content\"></div></div></template><style>\n",
       "        #a2csn .caas-body-inner-wrapper {\n",
       "            margin-bottom: 15px;\n",
       "        }\n",
       "        #a2csn .wafer-caas-complete[data-comments-id] {\n",
       "            margin-bottom: 0;\n",
       "        }\n",
       "        body.ow-modal-opened #a2csn #mainArticleIdComments iframe,\n",
       "        body.ow-modal-opened #a2csn #clusterArticleId1Comments iframe,\n",
       "        body.ow-modal-opened #a2csn #clusterArticleId2Comments iframe,\n",
       "        body.ow-modal-opened #a2csn #clusterArticleId3Comments iframe,\n",
       "        body.ow-modal-opened #a2csn #clusterArticleId4Comments iframe,\n",
       "        body.ow-modal-opened #a2csn #clusterArticleId5Comments iframe {\n",
       "            z-index: 11 !important;\n",
       "        }\n",
       "    </style><script class=\"wafer-state state-added\" type=\"application/json\">\n",
       "        {\"spotIm\":{\"conversationEnabled\":true,\"jacUrl\":\"https://jac.yahoosandbox.com/0.7.0/jac.js\",\"launcherUrl\":\"https://launcher.spot.im/spot/\",\"messages_cnt\":0,\"pitcAdEnabled\":true,\"pitcEnabled\":true,\"showSuspendedCommentsMessage\":false,\"spotId\":\"sp_Rba9aFpG\",\"stageSpotId\":\"sp_n93tLsKu\",\"useCase\":\"modal\",\"xhrPathPrefix\":\"/nel_ms/_rcv/remote\"}}\n",
       "    </script><template class=\"C(#828c93) Lh(20px) Fz(14px) Fw(500) BdT Bdtc(#222) Bdtw(2px) Mt(20px) Pt(24px) Py(24px) Mb(30px)\" id=\"suspended-commenting-message-template\">Our goal is to create a safe and engaging place for users to connect over interests and passions. In order to improve our community experience, we are temporarily suspending article commenting</template></body></html>"
      ]
     },
     "metadata": {},
     "execution_count": 4
    }
   ],
   "source": [
    "#checking content of soup object\n",
    "soup"
   ]
  },
  {
   "cell_type": "code",
   "execution_count": 5,
   "metadata": {},
   "outputs": [],
   "source": [
    "#Recording data from table on HTML page using BeautifulSoup into DataFrame netflix_data\n",
    "for row in soup.find(\"tbody\").find_all('tr'):\n",
    "    col = row.find_all(\"td\")\n",
    "    date = col[0].text\n",
    "    Open = col[1].text\n",
    "    high = col[2].text\n",
    "    low = col[3].text\n",
    "    close = col[4].text\n",
    "    adj_close = col[5].text\n",
    "    volume = col[6].text\n",
    "    netflix_data = netflix_data.append({\"Date\":date, \"Open\":Open, \"High\":high, \"Low\":low, \"Close\":close, \"Adj Close\":adj_close, \"Volume\":volume}, ignore_index=True)"
   ]
  },
  {
   "cell_type": "code",
   "execution_count": 6,
   "metadata": {},
   "outputs": [
    {
     "output_type": "execute_result",
     "data": {
      "text/plain": [
       "            Date    Open    High     Low   Close       Volume Adj Close\n",
       "0   Jun 01, 2021  504.01  536.13  482.14  528.21   78,560,600    528.21\n",
       "1   May 01, 2021  512.65  518.95  478.54  502.81   66,927,600    502.81\n",
       "2   Apr 01, 2021  529.93  563.56  499.00  513.47  111,573,300    513.47\n",
       "3   Mar 01, 2021  545.57  556.99  492.85  521.66   90,183,900    521.66\n",
       "4   Feb 01, 2021  536.79  566.65  518.28  538.85   61,902,300    538.85\n",
       "..           ...     ...     ...     ...     ...          ...       ...\n",
       "65  Jan 01, 2016  109.00  122.18   90.11   91.84  488,193,200     91.84\n",
       "66  Dec 01, 2015  124.47  133.27  113.85  114.38  319,939,200    114.38\n",
       "67  Nov 01, 2015  109.20  126.60  101.86  123.33  320,321,800    123.33\n",
       "68  Oct 01, 2015  102.91  115.83   96.26  108.38  446,204,400    108.38\n",
       "69  Sep 01, 2015  109.35  111.24   93.55  103.26  497,401,200    103.26\n",
       "\n",
       "[70 rows x 7 columns]"
      ],
      "text/html": "<div>\n<style scoped>\n    .dataframe tbody tr th:only-of-type {\n        vertical-align: middle;\n    }\n\n    .dataframe tbody tr th {\n        vertical-align: top;\n    }\n\n    .dataframe thead th {\n        text-align: right;\n    }\n</style>\n<table border=\"1\" class=\"dataframe\">\n  <thead>\n    <tr style=\"text-align: right;\">\n      <th></th>\n      <th>Date</th>\n      <th>Open</th>\n      <th>High</th>\n      <th>Low</th>\n      <th>Close</th>\n      <th>Volume</th>\n      <th>Adj Close</th>\n    </tr>\n  </thead>\n  <tbody>\n    <tr>\n      <th>0</th>\n      <td>Jun 01, 2021</td>\n      <td>504.01</td>\n      <td>536.13</td>\n      <td>482.14</td>\n      <td>528.21</td>\n      <td>78,560,600</td>\n      <td>528.21</td>\n    </tr>\n    <tr>\n      <th>1</th>\n      <td>May 01, 2021</td>\n      <td>512.65</td>\n      <td>518.95</td>\n      <td>478.54</td>\n      <td>502.81</td>\n      <td>66,927,600</td>\n      <td>502.81</td>\n    </tr>\n    <tr>\n      <th>2</th>\n      <td>Apr 01, 2021</td>\n      <td>529.93</td>\n      <td>563.56</td>\n      <td>499.00</td>\n      <td>513.47</td>\n      <td>111,573,300</td>\n      <td>513.47</td>\n    </tr>\n    <tr>\n      <th>3</th>\n      <td>Mar 01, 2021</td>\n      <td>545.57</td>\n      <td>556.99</td>\n      <td>492.85</td>\n      <td>521.66</td>\n      <td>90,183,900</td>\n      <td>521.66</td>\n    </tr>\n    <tr>\n      <th>4</th>\n      <td>Feb 01, 2021</td>\n      <td>536.79</td>\n      <td>566.65</td>\n      <td>518.28</td>\n      <td>538.85</td>\n      <td>61,902,300</td>\n      <td>538.85</td>\n    </tr>\n    <tr>\n      <th>...</th>\n      <td>...</td>\n      <td>...</td>\n      <td>...</td>\n      <td>...</td>\n      <td>...</td>\n      <td>...</td>\n      <td>...</td>\n    </tr>\n    <tr>\n      <th>65</th>\n      <td>Jan 01, 2016</td>\n      <td>109.00</td>\n      <td>122.18</td>\n      <td>90.11</td>\n      <td>91.84</td>\n      <td>488,193,200</td>\n      <td>91.84</td>\n    </tr>\n    <tr>\n      <th>66</th>\n      <td>Dec 01, 2015</td>\n      <td>124.47</td>\n      <td>133.27</td>\n      <td>113.85</td>\n      <td>114.38</td>\n      <td>319,939,200</td>\n      <td>114.38</td>\n    </tr>\n    <tr>\n      <th>67</th>\n      <td>Nov 01, 2015</td>\n      <td>109.20</td>\n      <td>126.60</td>\n      <td>101.86</td>\n      <td>123.33</td>\n      <td>320,321,800</td>\n      <td>123.33</td>\n    </tr>\n    <tr>\n      <th>68</th>\n      <td>Oct 01, 2015</td>\n      <td>102.91</td>\n      <td>115.83</td>\n      <td>96.26</td>\n      <td>108.38</td>\n      <td>446,204,400</td>\n      <td>108.38</td>\n    </tr>\n    <tr>\n      <th>69</th>\n      <td>Sep 01, 2015</td>\n      <td>109.35</td>\n      <td>111.24</td>\n      <td>93.55</td>\n      <td>103.26</td>\n      <td>497,401,200</td>\n      <td>103.26</td>\n    </tr>\n  </tbody>\n</table>\n<p>70 rows × 7 columns</p>\n</div>"
     },
     "metadata": {},
     "execution_count": 6
    }
   ],
   "source": [
    "#checking dataframe netflix_data\n",
    "netflix_data"
   ]
  },
  {
   "cell_type": "code",
   "execution_count": 7,
   "metadata": {},
   "outputs": [],
   "source": [
    "#copying dataframe netflix_data into new dataframe 'df' for further operations\n",
    "df=netflix_data.copy()"
   ]
  },
  {
   "cell_type": "code",
   "execution_count": 8,
   "metadata": {},
   "outputs": [],
   "source": [
    "#Since data fetched from HTML is int String, converting data into float type\n",
    "df['Open']=pd.to_numeric(df[\"Open\"], downcast=\"float\")\n",
    "df['High']=pd.to_numeric(df[\"High\"], downcast=\"float\")\n",
    "df['Low']=pd.to_numeric(df[\"Low\"], downcast=\"float\")\n",
    "df['Close']=pd.to_numeric(df[\"Close\"], downcast=\"float\")\n",
    "\n",
    "#Volumne column contains number seperated by comma(,) so processing to convert into float\n",
    "df['Volume']=df['Volume'].apply(lambda row:float(\"\".join(row.split(','))))\n",
    "\n",
    "#Converting string type of 'Date' column into Datetime type\n",
    "df['Date']=pd.to_datetime(df['Date'])\n",
    "\n",
    "#Droping AdjClose column since we will not be plotting this\n",
    "df1=df.drop('Adj Close',axis=1)"
   ]
  },
  {
   "cell_type": "code",
   "execution_count": 9,
   "metadata": {},
   "outputs": [
    {
     "output_type": "execute_result",
     "data": {
      "text/plain": [
       "         Date        Open        High         Low       Close       Volume\n",
       "0  2021-06-01  504.010010  536.130005  482.140015  528.210022   78560600.0\n",
       "1  2021-05-01  512.650024  518.950012  478.540009  502.809998   66927600.0\n",
       "2  2021-04-01  529.929993  563.559998  499.000000  513.469971  111573300.0\n",
       "3  2021-03-01  545.570007  556.989990  492.850006  521.659973   90183900.0\n",
       "4  2021-02-01  536.789978  566.650024  518.280029  538.849976   61902300.0\n",
       "..        ...         ...         ...         ...         ...          ...\n",
       "65 2016-01-01  109.000000  122.180000   90.110001   91.839996  488193200.0\n",
       "66 2015-12-01  124.470001  133.270004  113.849998  114.379997  319939200.0\n",
       "67 2015-11-01  109.199997  126.599998  101.860001  123.330002  320321800.0\n",
       "68 2015-10-01  102.910004  115.830002   96.260002  108.379997  446204400.0\n",
       "69 2015-09-01  109.349998  111.239998   93.550003  103.260002  497401200.0\n",
       "\n",
       "[70 rows x 6 columns]"
      ],
      "text/html": "<div>\n<style scoped>\n    .dataframe tbody tr th:only-of-type {\n        vertical-align: middle;\n    }\n\n    .dataframe tbody tr th {\n        vertical-align: top;\n    }\n\n    .dataframe thead th {\n        text-align: right;\n    }\n</style>\n<table border=\"1\" class=\"dataframe\">\n  <thead>\n    <tr style=\"text-align: right;\">\n      <th></th>\n      <th>Date</th>\n      <th>Open</th>\n      <th>High</th>\n      <th>Low</th>\n      <th>Close</th>\n      <th>Volume</th>\n    </tr>\n  </thead>\n  <tbody>\n    <tr>\n      <th>0</th>\n      <td>2021-06-01</td>\n      <td>504.010010</td>\n      <td>536.130005</td>\n      <td>482.140015</td>\n      <td>528.210022</td>\n      <td>78560600.0</td>\n    </tr>\n    <tr>\n      <th>1</th>\n      <td>2021-05-01</td>\n      <td>512.650024</td>\n      <td>518.950012</td>\n      <td>478.540009</td>\n      <td>502.809998</td>\n      <td>66927600.0</td>\n    </tr>\n    <tr>\n      <th>2</th>\n      <td>2021-04-01</td>\n      <td>529.929993</td>\n      <td>563.559998</td>\n      <td>499.000000</td>\n      <td>513.469971</td>\n      <td>111573300.0</td>\n    </tr>\n    <tr>\n      <th>3</th>\n      <td>2021-03-01</td>\n      <td>545.570007</td>\n      <td>556.989990</td>\n      <td>492.850006</td>\n      <td>521.659973</td>\n      <td>90183900.0</td>\n    </tr>\n    <tr>\n      <th>4</th>\n      <td>2021-02-01</td>\n      <td>536.789978</td>\n      <td>566.650024</td>\n      <td>518.280029</td>\n      <td>538.849976</td>\n      <td>61902300.0</td>\n    </tr>\n    <tr>\n      <th>...</th>\n      <td>...</td>\n      <td>...</td>\n      <td>...</td>\n      <td>...</td>\n      <td>...</td>\n      <td>...</td>\n    </tr>\n    <tr>\n      <th>65</th>\n      <td>2016-01-01</td>\n      <td>109.000000</td>\n      <td>122.180000</td>\n      <td>90.110001</td>\n      <td>91.839996</td>\n      <td>488193200.0</td>\n    </tr>\n    <tr>\n      <th>66</th>\n      <td>2015-12-01</td>\n      <td>124.470001</td>\n      <td>133.270004</td>\n      <td>113.849998</td>\n      <td>114.379997</td>\n      <td>319939200.0</td>\n    </tr>\n    <tr>\n      <th>67</th>\n      <td>2015-11-01</td>\n      <td>109.199997</td>\n      <td>126.599998</td>\n      <td>101.860001</td>\n      <td>123.330002</td>\n      <td>320321800.0</td>\n    </tr>\n    <tr>\n      <th>68</th>\n      <td>2015-10-01</td>\n      <td>102.910004</td>\n      <td>115.830002</td>\n      <td>96.260002</td>\n      <td>108.379997</td>\n      <td>446204400.0</td>\n    </tr>\n    <tr>\n      <th>69</th>\n      <td>2015-09-01</td>\n      <td>109.349998</td>\n      <td>111.239998</td>\n      <td>93.550003</td>\n      <td>103.260002</td>\n      <td>497401200.0</td>\n    </tr>\n  </tbody>\n</table>\n<p>70 rows × 6 columns</p>\n</div>"
     },
     "metadata": {},
     "execution_count": 9
    }
   ],
   "source": [
    "df1"
   ]
  },
  {
   "cell_type": "code",
   "execution_count": 10,
   "metadata": {},
   "outputs": [
    {
     "output_type": "execute_result",
     "data": {
      "text/plain": [
       "<AxesSubplot:xlabel='Date'>"
      ]
     },
     "metadata": {},
     "execution_count": 10
    },
    {
     "output_type": "display_data",
     "data": {
      "text/plain": "<Figure size 1440x720 with 1 Axes>",
      "image/svg+xml": "<?xml version=\"1.0\" encoding=\"utf-8\" standalone=\"no\"?>\r\n<!DOCTYPE svg PUBLIC \"-//W3C//DTD SVG 1.1//EN\"\r\n  \"http://www.w3.org/Graphics/SVG/1.1/DTD/svg11.dtd\">\r\n<svg height=\"588.35625pt\" version=\"1.1\" viewBox=\"0 0 1156.4875 588.35625\" width=\"1156.4875pt\" xmlns=\"http://www.w3.org/2000/svg\" xmlns:xlink=\"http://www.w3.org/1999/xlink\">\r\n <metadata>\r\n  <rdf:RDF xmlns:cc=\"http://creativecommons.org/ns#\" xmlns:dc=\"http://purl.org/dc/elements/1.1/\" xmlns:rdf=\"http://www.w3.org/1999/02/22-rdf-syntax-ns#\">\r\n   <cc:Work>\r\n    <dc:type rdf:resource=\"http://purl.org/dc/dcmitype/StillImage\"/>\r\n    <dc:date>2021-07-03T12:10:43.832447</dc:date>\r\n    <dc:format>image/svg+xml</dc:format>\r\n    <dc:creator>\r\n     <cc:Agent>\r\n      <dc:title>Matplotlib v3.4.2, https://matplotlib.org/</dc:title>\r\n     </cc:Agent>\r\n    </dc:creator>\r\n   </cc:Work>\r\n  </rdf:RDF>\r\n </metadata>\r\n <defs>\r\n  <style type=\"text/css\">*{stroke-linecap:butt;stroke-linejoin:round;}</style>\r\n </defs>\r\n <g id=\"figure_1\">\r\n  <g id=\"patch_1\">\r\n   <path d=\"M 0 588.35625 \r\nL 1156.4875 588.35625 \r\nL 1156.4875 0 \r\nL 0 0 \r\nz\r\n\" style=\"fill:none;\"/>\r\n  </g>\r\n  <g id=\"axes_1\">\r\n   <g id=\"patch_2\">\r\n    <path d=\"M 33.2875 550.8 \r\nL 1149.2875 550.8 \r\nL 1149.2875 7.2 \r\nL 33.2875 7.2 \r\nz\r\n\" style=\"fill:#ffffff;\"/>\r\n   </g>\r\n   <g id=\"matplotlib.axis_1\">\r\n    <g id=\"xtick_1\">\r\n     <g id=\"line2d_1\">\r\n      <defs>\r\n       <path d=\"M 0 0 \r\nL 0 3.5 \r\n\" id=\"mfa0a375951\" style=\"stroke:#000000;stroke-width:0.8;\"/>\r\n      </defs>\r\n      <g>\r\n       <use style=\"stroke:#000000;stroke-width:0.8;\" x=\"97.983152\" xlink:href=\"#mfa0a375951\" y=\"550.8\"/>\r\n      </g>\r\n     </g>\r\n     <g id=\"text_1\">\r\n      <!-- 2016 -->\r\n      <g transform=\"translate(85.258152 565.398438)scale(0.1 -0.1)\">\r\n       <defs>\r\n        <path d=\"M 1228 531 \r\nL 3431 531 \r\nL 3431 0 \r\nL 469 0 \r\nL 469 531 \r\nQ 828 903 1448 1529 \r\nQ 2069 2156 2228 2338 \r\nQ 2531 2678 2651 2914 \r\nQ 2772 3150 2772 3378 \r\nQ 2772 3750 2511 3984 \r\nQ 2250 4219 1831 4219 \r\nQ 1534 4219 1204 4116 \r\nQ 875 4013 500 3803 \r\nL 500 4441 \r\nQ 881 4594 1212 4672 \r\nQ 1544 4750 1819 4750 \r\nQ 2544 4750 2975 4387 \r\nQ 3406 4025 3406 3419 \r\nQ 3406 3131 3298 2873 \r\nQ 3191 2616 2906 2266 \r\nQ 2828 2175 2409 1742 \r\nQ 1991 1309 1228 531 \r\nz\r\n\" id=\"DejaVuSans-32\" transform=\"scale(0.015625)\"/>\r\n        <path d=\"M 2034 4250 \r\nQ 1547 4250 1301 3770 \r\nQ 1056 3291 1056 2328 \r\nQ 1056 1369 1301 889 \r\nQ 1547 409 2034 409 \r\nQ 2525 409 2770 889 \r\nQ 3016 1369 3016 2328 \r\nQ 3016 3291 2770 3770 \r\nQ 2525 4250 2034 4250 \r\nz\r\nM 2034 4750 \r\nQ 2819 4750 3233 4129 \r\nQ 3647 3509 3647 2328 \r\nQ 3647 1150 3233 529 \r\nQ 2819 -91 2034 -91 \r\nQ 1250 -91 836 529 \r\nQ 422 1150 422 2328 \r\nQ 422 3509 836 4129 \r\nQ 1250 4750 2034 4750 \r\nz\r\n\" id=\"DejaVuSans-30\" transform=\"scale(0.015625)\"/>\r\n        <path d=\"M 794 531 \r\nL 1825 531 \r\nL 1825 4091 \r\nL 703 3866 \r\nL 703 4441 \r\nL 1819 4666 \r\nL 2450 4666 \r\nL 2450 531 \r\nL 3481 531 \r\nL 3481 0 \r\nL 794 0 \r\nL 794 531 \r\nz\r\n\" id=\"DejaVuSans-31\" transform=\"scale(0.015625)\"/>\r\n        <path d=\"M 2113 2584 \r\nQ 1688 2584 1439 2293 \r\nQ 1191 2003 1191 1497 \r\nQ 1191 994 1439 701 \r\nQ 1688 409 2113 409 \r\nQ 2538 409 2786 701 \r\nQ 3034 994 3034 1497 \r\nQ 3034 2003 2786 2293 \r\nQ 2538 2584 2113 2584 \r\nz\r\nM 3366 4563 \r\nL 3366 3988 \r\nQ 3128 4100 2886 4159 \r\nQ 2644 4219 2406 4219 \r\nQ 1781 4219 1451 3797 \r\nQ 1122 3375 1075 2522 \r\nQ 1259 2794 1537 2939 \r\nQ 1816 3084 2150 3084 \r\nQ 2853 3084 3261 2657 \r\nQ 3669 2231 3669 1497 \r\nQ 3669 778 3244 343 \r\nQ 2819 -91 2113 -91 \r\nQ 1303 -91 875 529 \r\nQ 447 1150 447 2328 \r\nQ 447 3434 972 4092 \r\nQ 1497 4750 2381 4750 \r\nQ 2619 4750 2861 4703 \r\nQ 3103 4656 3366 4563 \r\nz\r\n\" id=\"DejaVuSans-36\" transform=\"scale(0.015625)\"/>\r\n       </defs>\r\n       <use xlink:href=\"#DejaVuSans-32\"/>\r\n       <use x=\"63.623047\" xlink:href=\"#DejaVuSans-30\"/>\r\n       <use x=\"127.246094\" xlink:href=\"#DejaVuSans-31\"/>\r\n       <use x=\"190.869141\" xlink:href=\"#DejaVuSans-36\"/>\r\n      </g>\r\n     </g>\r\n    </g>\r\n    <g id=\"xtick_2\">\r\n     <g id=\"line2d_2\">\r\n      <g>\r\n       <use style=\"stroke:#000000;stroke-width:0.8;\" x=\"292.070109\" xlink:href=\"#mfa0a375951\" y=\"550.8\"/>\r\n      </g>\r\n     </g>\r\n     <g id=\"text_2\">\r\n      <!-- 2017 -->\r\n      <g transform=\"translate(279.345109 565.398438)scale(0.1 -0.1)\">\r\n       <defs>\r\n        <path d=\"M 525 4666 \r\nL 3525 4666 \r\nL 3525 4397 \r\nL 1831 0 \r\nL 1172 0 \r\nL 2766 4134 \r\nL 525 4134 \r\nL 525 4666 \r\nz\r\n\" id=\"DejaVuSans-37\" transform=\"scale(0.015625)\"/>\r\n       </defs>\r\n       <use xlink:href=\"#DejaVuSans-32\"/>\r\n       <use x=\"63.623047\" xlink:href=\"#DejaVuSans-30\"/>\r\n       <use x=\"127.246094\" xlink:href=\"#DejaVuSans-31\"/>\r\n       <use x=\"190.869141\" xlink:href=\"#DejaVuSans-37\"/>\r\n      </g>\r\n     </g>\r\n    </g>\r\n    <g id=\"xtick_3\">\r\n     <g id=\"line2d_3\">\r\n      <g>\r\n       <use style=\"stroke:#000000;stroke-width:0.8;\" x=\"486.157065\" xlink:href=\"#mfa0a375951\" y=\"550.8\"/>\r\n      </g>\r\n     </g>\r\n     <g id=\"text_3\">\r\n      <!-- 2018 -->\r\n      <g transform=\"translate(473.432065 565.398438)scale(0.1 -0.1)\">\r\n       <defs>\r\n        <path d=\"M 2034 2216 \r\nQ 1584 2216 1326 1975 \r\nQ 1069 1734 1069 1313 \r\nQ 1069 891 1326 650 \r\nQ 1584 409 2034 409 \r\nQ 2484 409 2743 651 \r\nQ 3003 894 3003 1313 \r\nQ 3003 1734 2745 1975 \r\nQ 2488 2216 2034 2216 \r\nz\r\nM 1403 2484 \r\nQ 997 2584 770 2862 \r\nQ 544 3141 544 3541 \r\nQ 544 4100 942 4425 \r\nQ 1341 4750 2034 4750 \r\nQ 2731 4750 3128 4425 \r\nQ 3525 4100 3525 3541 \r\nQ 3525 3141 3298 2862 \r\nQ 3072 2584 2669 2484 \r\nQ 3125 2378 3379 2068 \r\nQ 3634 1759 3634 1313 \r\nQ 3634 634 3220 271 \r\nQ 2806 -91 2034 -91 \r\nQ 1263 -91 848 271 \r\nQ 434 634 434 1313 \r\nQ 434 1759 690 2068 \r\nQ 947 2378 1403 2484 \r\nz\r\nM 1172 3481 \r\nQ 1172 3119 1398 2916 \r\nQ 1625 2713 2034 2713 \r\nQ 2441 2713 2670 2916 \r\nQ 2900 3119 2900 3481 \r\nQ 2900 3844 2670 4047 \r\nQ 2441 4250 2034 4250 \r\nQ 1625 4250 1398 4047 \r\nQ 1172 3844 1172 3481 \r\nz\r\n\" id=\"DejaVuSans-38\" transform=\"scale(0.015625)\"/>\r\n       </defs>\r\n       <use xlink:href=\"#DejaVuSans-32\"/>\r\n       <use x=\"63.623047\" xlink:href=\"#DejaVuSans-30\"/>\r\n       <use x=\"127.246094\" xlink:href=\"#DejaVuSans-31\"/>\r\n       <use x=\"190.869141\" xlink:href=\"#DejaVuSans-38\"/>\r\n      </g>\r\n     </g>\r\n    </g>\r\n    <g id=\"xtick_4\">\r\n     <g id=\"line2d_4\">\r\n      <g>\r\n       <use style=\"stroke:#000000;stroke-width:0.8;\" x=\"680.244022\" xlink:href=\"#mfa0a375951\" y=\"550.8\"/>\r\n      </g>\r\n     </g>\r\n     <g id=\"text_4\">\r\n      <!-- 2019 -->\r\n      <g transform=\"translate(667.519022 565.398438)scale(0.1 -0.1)\">\r\n       <defs>\r\n        <path d=\"M 703 97 \r\nL 703 672 \r\nQ 941 559 1184 500 \r\nQ 1428 441 1663 441 \r\nQ 2288 441 2617 861 \r\nQ 2947 1281 2994 2138 \r\nQ 2813 1869 2534 1725 \r\nQ 2256 1581 1919 1581 \r\nQ 1219 1581 811 2004 \r\nQ 403 2428 403 3163 \r\nQ 403 3881 828 4315 \r\nQ 1253 4750 1959 4750 \r\nQ 2769 4750 3195 4129 \r\nQ 3622 3509 3622 2328 \r\nQ 3622 1225 3098 567 \r\nQ 2575 -91 1691 -91 \r\nQ 1453 -91 1209 -44 \r\nQ 966 3 703 97 \r\nz\r\nM 1959 2075 \r\nQ 2384 2075 2632 2365 \r\nQ 2881 2656 2881 3163 \r\nQ 2881 3666 2632 3958 \r\nQ 2384 4250 1959 4250 \r\nQ 1534 4250 1286 3958 \r\nQ 1038 3666 1038 3163 \r\nQ 1038 2656 1286 2365 \r\nQ 1534 2075 1959 2075 \r\nz\r\n\" id=\"DejaVuSans-39\" transform=\"scale(0.015625)\"/>\r\n       </defs>\r\n       <use xlink:href=\"#DejaVuSans-32\"/>\r\n       <use x=\"63.623047\" xlink:href=\"#DejaVuSans-30\"/>\r\n       <use x=\"127.246094\" xlink:href=\"#DejaVuSans-31\"/>\r\n       <use x=\"190.869141\" xlink:href=\"#DejaVuSans-39\"/>\r\n      </g>\r\n     </g>\r\n    </g>\r\n    <g id=\"xtick_5\">\r\n     <g id=\"line2d_5\">\r\n      <g>\r\n       <use style=\"stroke:#000000;stroke-width:0.8;\" x=\"874.330978\" xlink:href=\"#mfa0a375951\" y=\"550.8\"/>\r\n      </g>\r\n     </g>\r\n     <g id=\"text_5\">\r\n      <!-- 2020 -->\r\n      <g transform=\"translate(861.605978 565.398438)scale(0.1 -0.1)\">\r\n       <use xlink:href=\"#DejaVuSans-32\"/>\r\n       <use x=\"63.623047\" xlink:href=\"#DejaVuSans-30\"/>\r\n       <use x=\"127.246094\" xlink:href=\"#DejaVuSans-32\"/>\r\n       <use x=\"190.869141\" xlink:href=\"#DejaVuSans-30\"/>\r\n      </g>\r\n     </g>\r\n    </g>\r\n    <g id=\"xtick_6\">\r\n     <g id=\"line2d_6\">\r\n      <g>\r\n       <use style=\"stroke:#000000;stroke-width:0.8;\" x=\"1068.417935\" xlink:href=\"#mfa0a375951\" y=\"550.8\"/>\r\n      </g>\r\n     </g>\r\n     <g id=\"text_6\">\r\n      <!-- 2021 -->\r\n      <g transform=\"translate(1055.692935 565.398438)scale(0.1 -0.1)\">\r\n       <use xlink:href=\"#DejaVuSans-32\"/>\r\n       <use x=\"63.623047\" xlink:href=\"#DejaVuSans-30\"/>\r\n       <use x=\"127.246094\" xlink:href=\"#DejaVuSans-32\"/>\r\n       <use x=\"190.869141\" xlink:href=\"#DejaVuSans-31\"/>\r\n      </g>\r\n     </g>\r\n    </g>\r\n    <g id=\"xtick_7\">\r\n     <g id=\"line2d_7\">\r\n      <defs>\r\n       <path d=\"M 0 0 \r\nL 0 2 \r\n\" id=\"m80596ce90a\" style=\"stroke:#000000;stroke-width:0.6;\"/>\r\n      </defs>\r\n      <g>\r\n       <use style=\"stroke:#000000;stroke-width:0.6;\" x=\"49.461413\" xlink:href=\"#m80596ce90a\" y=\"550.8\"/>\r\n      </g>\r\n     </g>\r\n    </g>\r\n    <g id=\"xtick_8\">\r\n     <g id=\"line2d_8\">\r\n      <g>\r\n       <use style=\"stroke:#000000;stroke-width:0.6;\" x=\"146.504891\" xlink:href=\"#m80596ce90a\" y=\"550.8\"/>\r\n      </g>\r\n     </g>\r\n    </g>\r\n    <g id=\"xtick_9\">\r\n     <g id=\"line2d_9\">\r\n      <g>\r\n       <use style=\"stroke:#000000;stroke-width:0.6;\" x=\"195.02663\" xlink:href=\"#m80596ce90a\" y=\"550.8\"/>\r\n      </g>\r\n     </g>\r\n    </g>\r\n    <g id=\"xtick_10\">\r\n     <g id=\"line2d_10\">\r\n      <g>\r\n       <use style=\"stroke:#000000;stroke-width:0.6;\" x=\"243.54837\" xlink:href=\"#m80596ce90a\" y=\"550.8\"/>\r\n      </g>\r\n     </g>\r\n    </g>\r\n    <g id=\"xtick_11\">\r\n     <g id=\"line2d_11\">\r\n      <g>\r\n       <use style=\"stroke:#000000;stroke-width:0.6;\" x=\"340.591848\" xlink:href=\"#m80596ce90a\" y=\"550.8\"/>\r\n      </g>\r\n     </g>\r\n    </g>\r\n    <g id=\"xtick_12\">\r\n     <g id=\"line2d_12\">\r\n      <g>\r\n       <use style=\"stroke:#000000;stroke-width:0.6;\" x=\"389.113587\" xlink:href=\"#m80596ce90a\" y=\"550.8\"/>\r\n      </g>\r\n     </g>\r\n    </g>\r\n    <g id=\"xtick_13\">\r\n     <g id=\"line2d_13\">\r\n      <g>\r\n       <use style=\"stroke:#000000;stroke-width:0.6;\" x=\"437.635326\" xlink:href=\"#m80596ce90a\" y=\"550.8\"/>\r\n      </g>\r\n     </g>\r\n    </g>\r\n    <g id=\"xtick_14\">\r\n     <g id=\"line2d_14\">\r\n      <g>\r\n       <use style=\"stroke:#000000;stroke-width:0.6;\" x=\"534.678804\" xlink:href=\"#m80596ce90a\" y=\"550.8\"/>\r\n      </g>\r\n     </g>\r\n    </g>\r\n    <g id=\"xtick_15\">\r\n     <g id=\"line2d_15\">\r\n      <g>\r\n       <use style=\"stroke:#000000;stroke-width:0.6;\" x=\"583.200543\" xlink:href=\"#m80596ce90a\" y=\"550.8\"/>\r\n      </g>\r\n     </g>\r\n    </g>\r\n    <g id=\"xtick_16\">\r\n     <g id=\"line2d_16\">\r\n      <g>\r\n       <use style=\"stroke:#000000;stroke-width:0.6;\" x=\"631.722283\" xlink:href=\"#m80596ce90a\" y=\"550.8\"/>\r\n      </g>\r\n     </g>\r\n    </g>\r\n    <g id=\"xtick_17\">\r\n     <g id=\"line2d_17\">\r\n      <g>\r\n       <use style=\"stroke:#000000;stroke-width:0.6;\" x=\"728.765761\" xlink:href=\"#m80596ce90a\" y=\"550.8\"/>\r\n      </g>\r\n     </g>\r\n    </g>\r\n    <g id=\"xtick_18\">\r\n     <g id=\"line2d_18\">\r\n      <g>\r\n       <use style=\"stroke:#000000;stroke-width:0.6;\" x=\"777.2875\" xlink:href=\"#m80596ce90a\" y=\"550.8\"/>\r\n      </g>\r\n     </g>\r\n    </g>\r\n    <g id=\"xtick_19\">\r\n     <g id=\"line2d_19\">\r\n      <g>\r\n       <use style=\"stroke:#000000;stroke-width:0.6;\" x=\"825.809239\" xlink:href=\"#m80596ce90a\" y=\"550.8\"/>\r\n      </g>\r\n     </g>\r\n    </g>\r\n    <g id=\"xtick_20\">\r\n     <g id=\"line2d_20\">\r\n      <g>\r\n       <use style=\"stroke:#000000;stroke-width:0.6;\" x=\"922.852717\" xlink:href=\"#m80596ce90a\" y=\"550.8\"/>\r\n      </g>\r\n     </g>\r\n    </g>\r\n    <g id=\"xtick_21\">\r\n     <g id=\"line2d_21\">\r\n      <g>\r\n       <use style=\"stroke:#000000;stroke-width:0.6;\" x=\"971.374457\" xlink:href=\"#m80596ce90a\" y=\"550.8\"/>\r\n      </g>\r\n     </g>\r\n    </g>\r\n    <g id=\"xtick_22\">\r\n     <g id=\"line2d_22\">\r\n      <g>\r\n       <use style=\"stroke:#000000;stroke-width:0.6;\" x=\"1019.896196\" xlink:href=\"#m80596ce90a\" y=\"550.8\"/>\r\n      </g>\r\n     </g>\r\n    </g>\r\n    <g id=\"xtick_23\">\r\n     <g id=\"line2d_23\">\r\n      <g>\r\n       <use style=\"stroke:#000000;stroke-width:0.6;\" x=\"1116.939674\" xlink:href=\"#m80596ce90a\" y=\"550.8\"/>\r\n      </g>\r\n     </g>\r\n    </g>\r\n    <g id=\"text_7\">\r\n     <!-- Date -->\r\n     <g transform=\"translate(579.336719 579.076563)scale(0.1 -0.1)\">\r\n      <defs>\r\n       <path d=\"M 1259 4147 \r\nL 1259 519 \r\nL 2022 519 \r\nQ 2988 519 3436 956 \r\nQ 3884 1394 3884 2338 \r\nQ 3884 3275 3436 3711 \r\nQ 2988 4147 2022 4147 \r\nL 1259 4147 \r\nz\r\nM 628 4666 \r\nL 1925 4666 \r\nQ 3281 4666 3915 4102 \r\nQ 4550 3538 4550 2338 \r\nQ 4550 1131 3912 565 \r\nQ 3275 0 1925 0 \r\nL 628 0 \r\nL 628 4666 \r\nz\r\n\" id=\"DejaVuSans-44\" transform=\"scale(0.015625)\"/>\r\n       <path d=\"M 2194 1759 \r\nQ 1497 1759 1228 1600 \r\nQ 959 1441 959 1056 \r\nQ 959 750 1161 570 \r\nQ 1363 391 1709 391 \r\nQ 2188 391 2477 730 \r\nQ 2766 1069 2766 1631 \r\nL 2766 1759 \r\nL 2194 1759 \r\nz\r\nM 3341 1997 \r\nL 3341 0 \r\nL 2766 0 \r\nL 2766 531 \r\nQ 2569 213 2275 61 \r\nQ 1981 -91 1556 -91 \r\nQ 1019 -91 701 211 \r\nQ 384 513 384 1019 \r\nQ 384 1609 779 1909 \r\nQ 1175 2209 1959 2209 \r\nL 2766 2209 \r\nL 2766 2266 \r\nQ 2766 2663 2505 2880 \r\nQ 2244 3097 1772 3097 \r\nQ 1472 3097 1187 3025 \r\nQ 903 2953 641 2809 \r\nL 641 3341 \r\nQ 956 3463 1253 3523 \r\nQ 1550 3584 1831 3584 \r\nQ 2591 3584 2966 3190 \r\nQ 3341 2797 3341 1997 \r\nz\r\n\" id=\"DejaVuSans-61\" transform=\"scale(0.015625)\"/>\r\n       <path d=\"M 1172 4494 \r\nL 1172 3500 \r\nL 2356 3500 \r\nL 2356 3053 \r\nL 1172 3053 \r\nL 1172 1153 \r\nQ 1172 725 1289 603 \r\nQ 1406 481 1766 481 \r\nL 2356 481 \r\nL 2356 0 \r\nL 1766 0 \r\nQ 1100 0 847 248 \r\nQ 594 497 594 1153 \r\nL 594 3053 \r\nL 172 3053 \r\nL 172 3500 \r\nL 594 3500 \r\nL 594 4494 \r\nL 1172 4494 \r\nz\r\n\" id=\"DejaVuSans-74\" transform=\"scale(0.015625)\"/>\r\n       <path d=\"M 3597 1894 \r\nL 3597 1613 \r\nL 953 1613 \r\nQ 991 1019 1311 708 \r\nQ 1631 397 2203 397 \r\nQ 2534 397 2845 478 \r\nQ 3156 559 3463 722 \r\nL 3463 178 \r\nQ 3153 47 2828 -22 \r\nQ 2503 -91 2169 -91 \r\nQ 1331 -91 842 396 \r\nQ 353 884 353 1716 \r\nQ 353 2575 817 3079 \r\nQ 1281 3584 2069 3584 \r\nQ 2775 3584 3186 3129 \r\nQ 3597 2675 3597 1894 \r\nz\r\nM 3022 2063 \r\nQ 3016 2534 2758 2815 \r\nQ 2500 3097 2075 3097 \r\nQ 1594 3097 1305 2825 \r\nQ 1016 2553 972 2059 \r\nL 3022 2063 \r\nz\r\n\" id=\"DejaVuSans-65\" transform=\"scale(0.015625)\"/>\r\n      </defs>\r\n      <use xlink:href=\"#DejaVuSans-44\"/>\r\n      <use x=\"77.001953\" xlink:href=\"#DejaVuSans-61\"/>\r\n      <use x=\"138.28125\" xlink:href=\"#DejaVuSans-74\"/>\r\n      <use x=\"177.490234\" xlink:href=\"#DejaVuSans-65\"/>\r\n     </g>\r\n    </g>\r\n   </g>\r\n   <g id=\"matplotlib.axis_2\">\r\n    <g id=\"ytick_1\">\r\n     <g id=\"line2d_24\">\r\n      <defs>\r\n       <path d=\"M 0 0 \r\nL -3.5 0 \r\n\" id=\"mbdae7a99f0\" style=\"stroke:#000000;stroke-width:0.8;\"/>\r\n      </defs>\r\n      <g>\r\n       <use style=\"stroke:#000000;stroke-width:0.8;\" x=\"33.2875\" xlink:href=\"#mbdae7a99f0\" y=\"515.678742\"/>\r\n      </g>\r\n     </g>\r\n     <g id=\"text_8\">\r\n      <!-- 100 -->\r\n      <g transform=\"translate(7.2 519.477961)scale(0.1 -0.1)\">\r\n       <use xlink:href=\"#DejaVuSans-31\"/>\r\n       <use x=\"63.623047\" xlink:href=\"#DejaVuSans-30\"/>\r\n       <use x=\"127.246094\" xlink:href=\"#DejaVuSans-30\"/>\r\n      </g>\r\n     </g>\r\n    </g>\r\n    <g id=\"ytick_2\">\r\n     <g id=\"line2d_25\">\r\n      <g>\r\n       <use style=\"stroke:#000000;stroke-width:0.8;\" x=\"33.2875\" xlink:href=\"#mbdae7a99f0\" y=\"407.105534\"/>\r\n      </g>\r\n     </g>\r\n     <g id=\"text_9\">\r\n      <!-- 200 -->\r\n      <g transform=\"translate(7.2 410.904753)scale(0.1 -0.1)\">\r\n       <use xlink:href=\"#DejaVuSans-32\"/>\r\n       <use x=\"63.623047\" xlink:href=\"#DejaVuSans-30\"/>\r\n       <use x=\"127.246094\" xlink:href=\"#DejaVuSans-30\"/>\r\n      </g>\r\n     </g>\r\n    </g>\r\n    <g id=\"ytick_3\">\r\n     <g id=\"line2d_26\">\r\n      <g>\r\n       <use style=\"stroke:#000000;stroke-width:0.8;\" x=\"33.2875\" xlink:href=\"#mbdae7a99f0\" y=\"298.532326\"/>\r\n      </g>\r\n     </g>\r\n     <g id=\"text_10\">\r\n      <!-- 300 -->\r\n      <g transform=\"translate(7.2 302.331545)scale(0.1 -0.1)\">\r\n       <defs>\r\n        <path d=\"M 2597 2516 \r\nQ 3050 2419 3304 2112 \r\nQ 3559 1806 3559 1356 \r\nQ 3559 666 3084 287 \r\nQ 2609 -91 1734 -91 \r\nQ 1441 -91 1130 -33 \r\nQ 819 25 488 141 \r\nL 488 750 \r\nQ 750 597 1062 519 \r\nQ 1375 441 1716 441 \r\nQ 2309 441 2620 675 \r\nQ 2931 909 2931 1356 \r\nQ 2931 1769 2642 2001 \r\nQ 2353 2234 1838 2234 \r\nL 1294 2234 \r\nL 1294 2753 \r\nL 1863 2753 \r\nQ 2328 2753 2575 2939 \r\nQ 2822 3125 2822 3475 \r\nQ 2822 3834 2567 4026 \r\nQ 2313 4219 1838 4219 \r\nQ 1578 4219 1281 4162 \r\nQ 984 4106 628 3988 \r\nL 628 4550 \r\nQ 988 4650 1302 4700 \r\nQ 1616 4750 1894 4750 \r\nQ 2613 4750 3031 4423 \r\nQ 3450 4097 3450 3541 \r\nQ 3450 3153 3228 2886 \r\nQ 3006 2619 2597 2516 \r\nz\r\n\" id=\"DejaVuSans-33\" transform=\"scale(0.015625)\"/>\r\n       </defs>\r\n       <use xlink:href=\"#DejaVuSans-33\"/>\r\n       <use x=\"63.623047\" xlink:href=\"#DejaVuSans-30\"/>\r\n       <use x=\"127.246094\" xlink:href=\"#DejaVuSans-30\"/>\r\n      </g>\r\n     </g>\r\n    </g>\r\n    <g id=\"ytick_4\">\r\n     <g id=\"line2d_27\">\r\n      <g>\r\n       <use style=\"stroke:#000000;stroke-width:0.8;\" x=\"33.2875\" xlink:href=\"#mbdae7a99f0\" y=\"189.959118\"/>\r\n      </g>\r\n     </g>\r\n     <g id=\"text_11\">\r\n      <!-- 400 -->\r\n      <g transform=\"translate(7.2 193.758337)scale(0.1 -0.1)\">\r\n       <defs>\r\n        <path d=\"M 2419 4116 \r\nL 825 1625 \r\nL 2419 1625 \r\nL 2419 4116 \r\nz\r\nM 2253 4666 \r\nL 3047 4666 \r\nL 3047 1625 \r\nL 3713 1625 \r\nL 3713 1100 \r\nL 3047 1100 \r\nL 3047 0 \r\nL 2419 0 \r\nL 2419 1100 \r\nL 313 1100 \r\nL 313 1709 \r\nL 2253 4666 \r\nz\r\n\" id=\"DejaVuSans-34\" transform=\"scale(0.015625)\"/>\r\n       </defs>\r\n       <use xlink:href=\"#DejaVuSans-34\"/>\r\n       <use x=\"63.623047\" xlink:href=\"#DejaVuSans-30\"/>\r\n       <use x=\"127.246094\" xlink:href=\"#DejaVuSans-30\"/>\r\n      </g>\r\n     </g>\r\n    </g>\r\n    <g id=\"ytick_5\">\r\n     <g id=\"line2d_28\">\r\n      <g>\r\n       <use style=\"stroke:#000000;stroke-width:0.8;\" x=\"33.2875\" xlink:href=\"#mbdae7a99f0\" y=\"81.38591\"/>\r\n      </g>\r\n     </g>\r\n     <g id=\"text_12\">\r\n      <!-- 500 -->\r\n      <g transform=\"translate(7.2 85.185129)scale(0.1 -0.1)\">\r\n       <defs>\r\n        <path d=\"M 691 4666 \r\nL 3169 4666 \r\nL 3169 4134 \r\nL 1269 4134 \r\nL 1269 2991 \r\nQ 1406 3038 1543 3061 \r\nQ 1681 3084 1819 3084 \r\nQ 2600 3084 3056 2656 \r\nQ 3513 2228 3513 1497 \r\nQ 3513 744 3044 326 \r\nQ 2575 -91 1722 -91 \r\nQ 1428 -91 1123 -41 \r\nQ 819 9 494 109 \r\nL 494 744 \r\nQ 775 591 1075 516 \r\nQ 1375 441 1709 441 \r\nQ 2250 441 2565 725 \r\nQ 2881 1009 2881 1497 \r\nQ 2881 1984 2565 2268 \r\nQ 2250 2553 1709 2553 \r\nQ 1456 2553 1204 2497 \r\nQ 953 2441 691 2322 \r\nL 691 4666 \r\nz\r\n\" id=\"DejaVuSans-35\" transform=\"scale(0.015625)\"/>\r\n       </defs>\r\n       <use xlink:href=\"#DejaVuSans-35\"/>\r\n       <use x=\"63.623047\" xlink:href=\"#DejaVuSans-30\"/>\r\n       <use x=\"127.246094\" xlink:href=\"#DejaVuSans-30\"/>\r\n      </g>\r\n     </g>\r\n    </g>\r\n   </g>\r\n   <g id=\"line2d_29\">\r\n    <path clip-path=\"url(#p9d64c110ec)\" d=\"M 1149.2875 77.032114 \r\nL 1133.113587 67.651372 \r\nL 1116.939674 48.889957 \r\nL 1100.765761 31.909091 \r\nL 1084.591848 41.44185 \r\nL 1068.417935 39.042359 \r\nL 1052.244022 89.702622 \r\nL 1036.070109 104.327434 \r\nL 1019.896196 74.838947 \r\nL 1003.722283 45.99107 \r\nL 987.54837 91.309517 \r\nL 971.374457 131.329586 \r\nL 955.200543 169.514797 \r\nL 939.02663 173.564557 \r\nL 922.852717 215.962415 \r\nL 906.678804 219.15447 \r\nL 890.504891 247.242353 \r\nL 874.330978 270.194712 \r\nL 858.157065 282.908626 \r\nL 841.983152 310.801085 \r\nL 825.809239 333.981472 \r\nL 809.635326 308.499339 \r\nL 793.461413 272.203323 \r\nL 777.2875 218.731018 \r\nL 761.113587 251.237839 \r\nL 744.939674 218.188152 \r\nL 728.765761 234.474133 \r\nL 712.591848 230.934636 \r\nL 696.417935 258.164815 \r\nL 680.244022 342.743338 \r\nL 664.070109 305.926159 \r\nL 647.896196 293.54882 \r\nL 631.722283 216.179541 \r\nL 615.54837 226.363713 \r\nL 599.374457 259.587122 \r\nL 583.200543 205.756506 \r\nL 567.02663 240.033076 \r\nL 550.852717 287.284158 \r\nL 534.678804 307.283324 \r\nL 518.504891 306.403884 \r\nL 502.330978 335.002063 \r\nL 486.157065 411.339883 \r\nL 469.983152 421.230903 \r\nL 453.809239 410.102149 \r\nL 437.635326 426.529281 \r\nL 421.461413 433.65168 \r\nL 405.2875 426.116697 \r\nL 389.113587 461.609281 \r\nL 372.939674 446.713036 \r\nL 356.765761 459.318386 \r\nL 340.591848 464.975058 \r\nL 324.417935 469.165984 \r\nL 308.244022 470.946584 \r\nL 292.070109 488.578871 \r\nL 275.896196 496.65672 \r\nL 259.722283 488.557151 \r\nL 243.54837 517.850207 \r\nL 227.374457 518.056498 \r\nL 211.200543 525.200609 \r\nL 195.02663 521.107403 \r\nL 178.852717 514.050144 \r\nL 162.678804 526.090909 \r\nL 146.504891 512.497547 \r\nL 130.330978 521.563408 \r\nL 114.157065 524.592602 \r\nL 97.983152 505.907154 \r\nL 81.809239 489.110877 \r\nL 65.635326 505.690011 \r\nL 49.461413 512.519258 \r\nL 33.2875 505.527149 \r\n\" style=\"fill:none;stroke:#ff0000;stroke-linecap:square;stroke-width:1.5;\"/>\r\n   </g>\r\n   <g id=\"patch_3\">\r\n    <path d=\"M 33.2875 550.8 \r\nL 33.2875 7.2 \r\n\" style=\"fill:none;stroke:#000000;stroke-linecap:square;stroke-linejoin:miter;stroke-width:0.8;\"/>\r\n   </g>\r\n   <g id=\"patch_4\">\r\n    <path d=\"M 1149.2875 550.8 \r\nL 1149.2875 7.2 \r\n\" style=\"fill:none;stroke:#000000;stroke-linecap:square;stroke-linejoin:miter;stroke-width:0.8;\"/>\r\n   </g>\r\n   <g id=\"patch_5\">\r\n    <path d=\"M 33.2875 550.8 \r\nL 1149.2875 550.8 \r\n\" style=\"fill:none;stroke:#000000;stroke-linecap:square;stroke-linejoin:miter;stroke-width:0.8;\"/>\r\n   </g>\r\n   <g id=\"patch_6\">\r\n    <path d=\"M 33.2875 7.2 \r\nL 1149.2875 7.2 \r\n\" style=\"fill:none;stroke:#000000;stroke-linecap:square;stroke-linejoin:miter;stroke-width:0.8;\"/>\r\n   </g>\r\n   <g id=\"legend_1\">\r\n    <g id=\"patch_7\">\r\n     <path d=\"M 1083.576562 29.878125 \r\nL 1142.2875 29.878125 \r\nQ 1144.2875 29.878125 1144.2875 27.878125 \r\nL 1144.2875 14.2 \r\nQ 1144.2875 12.2 1142.2875 12.2 \r\nL 1083.576562 12.2 \r\nQ 1081.576562 12.2 1081.576562 14.2 \r\nL 1081.576562 27.878125 \r\nQ 1081.576562 29.878125 1083.576562 29.878125 \r\nz\r\n\" style=\"fill:#ffffff;opacity:0.8;stroke:#cccccc;stroke-linejoin:miter;\"/>\r\n    </g>\r\n    <g id=\"line2d_30\">\r\n     <path d=\"M 1085.576562 20.298438 \r\nL 1105.576562 20.298438 \r\n\" style=\"fill:none;stroke:#ff0000;stroke-linecap:square;stroke-width:1.5;\"/>\r\n    </g>\r\n    <g id=\"line2d_31\"/>\r\n    <g id=\"text_13\">\r\n     <!-- Open -->\r\n     <g transform=\"translate(1113.576562 23.798438)scale(0.1 -0.1)\">\r\n      <defs>\r\n       <path d=\"M 2522 4238 \r\nQ 1834 4238 1429 3725 \r\nQ 1025 3213 1025 2328 \r\nQ 1025 1447 1429 934 \r\nQ 1834 422 2522 422 \r\nQ 3209 422 3611 934 \r\nQ 4013 1447 4013 2328 \r\nQ 4013 3213 3611 3725 \r\nQ 3209 4238 2522 4238 \r\nz\r\nM 2522 4750 \r\nQ 3503 4750 4090 4092 \r\nQ 4678 3434 4678 2328 \r\nQ 4678 1225 4090 567 \r\nQ 3503 -91 2522 -91 \r\nQ 1538 -91 948 565 \r\nQ 359 1222 359 2328 \r\nQ 359 3434 948 4092 \r\nQ 1538 4750 2522 4750 \r\nz\r\n\" id=\"DejaVuSans-4f\" transform=\"scale(0.015625)\"/>\r\n       <path d=\"M 1159 525 \r\nL 1159 -1331 \r\nL 581 -1331 \r\nL 581 3500 \r\nL 1159 3500 \r\nL 1159 2969 \r\nQ 1341 3281 1617 3432 \r\nQ 1894 3584 2278 3584 \r\nQ 2916 3584 3314 3078 \r\nQ 3713 2572 3713 1747 \r\nQ 3713 922 3314 415 \r\nQ 2916 -91 2278 -91 \r\nQ 1894 -91 1617 61 \r\nQ 1341 213 1159 525 \r\nz\r\nM 3116 1747 \r\nQ 3116 2381 2855 2742 \r\nQ 2594 3103 2138 3103 \r\nQ 1681 3103 1420 2742 \r\nQ 1159 2381 1159 1747 \r\nQ 1159 1113 1420 752 \r\nQ 1681 391 2138 391 \r\nQ 2594 391 2855 752 \r\nQ 3116 1113 3116 1747 \r\nz\r\n\" id=\"DejaVuSans-70\" transform=\"scale(0.015625)\"/>\r\n       <path d=\"M 3513 2113 \r\nL 3513 0 \r\nL 2938 0 \r\nL 2938 2094 \r\nQ 2938 2591 2744 2837 \r\nQ 2550 3084 2163 3084 \r\nQ 1697 3084 1428 2787 \r\nQ 1159 2491 1159 1978 \r\nL 1159 0 \r\nL 581 0 \r\nL 581 3500 \r\nL 1159 3500 \r\nL 1159 2956 \r\nQ 1366 3272 1645 3428 \r\nQ 1925 3584 2291 3584 \r\nQ 2894 3584 3203 3211 \r\nQ 3513 2838 3513 2113 \r\nz\r\n\" id=\"DejaVuSans-6e\" transform=\"scale(0.015625)\"/>\r\n      </defs>\r\n      <use xlink:href=\"#DejaVuSans-4f\"/>\r\n      <use x=\"78.710938\" xlink:href=\"#DejaVuSans-70\"/>\r\n      <use x=\"142.1875\" xlink:href=\"#DejaVuSans-65\"/>\r\n      <use x=\"203.710938\" xlink:href=\"#DejaVuSans-6e\"/>\r\n     </g>\r\n    </g>\r\n   </g>\r\n  </g>\r\n </g>\r\n <defs>\r\n  <clipPath id=\"p9d64c110ec\">\r\n   <rect height=\"543.6\" width=\"1116\" x=\"33.2875\" y=\"7.2\"/>\r\n  </clipPath>\r\n </defs>\r\n</svg>\r\n",
      "image/png": "[encoded data removed]"
     },
     "metadata": {
      "needs_background": "light"
     }
    }
   ],
   "source": [
    "#Plotting Open stock price vs. Date\n",
    "df1.plot(figsize=(20,10),x='Date',y='Open',color='red')"
   ]
  },
  {
   "cell_type": "code",
   "execution_count": 11,
   "metadata": {},
   "outputs": [
    {
     "output_type": "execute_result",
     "data": {
      "text/plain": [
       "        Date        Open        High         Low       Close       Volume\n",
       "0 2021-06-01  504.010010  536.130005  482.140015  528.210022   78560600.0\n",
       "1 2021-05-01  512.650024  518.950012  478.540009  502.809998   66927600.0\n",
       "2 2021-04-01  529.929993  563.559998  499.000000  513.469971  111573300.0\n",
       "3 2021-03-01  545.570007  556.989990  492.850006  521.659973   90183900.0\n",
       "4 2021-02-01  536.789978  566.650024  518.280029  538.849976   61902300.0\n",
       "5 2021-01-01  539.000000  593.289978  485.670013  532.390015  139988600.0"
      ],
      "text/html": "<div>\n<style scoped>\n    .dataframe tbody tr th:only-of-type {\n        vertical-align: middle;\n    }\n\n    .dataframe tbody tr th {\n        vertical-align: top;\n    }\n\n    .dataframe thead th {\n        text-align: right;\n    }\n</style>\n<table border=\"1\" class=\"dataframe\">\n  <thead>\n    <tr style=\"text-align: right;\">\n      <th></th>\n      <th>Date</th>\n      <th>Open</th>\n      <th>High</th>\n      <th>Low</th>\n      <th>Close</th>\n      <th>Volume</th>\n    </tr>\n  </thead>\n  <tbody>\n    <tr>\n      <th>0</th>\n      <td>2021-06-01</td>\n      <td>504.010010</td>\n      <td>536.130005</td>\n      <td>482.140015</td>\n      <td>528.210022</td>\n      <td>78560600.0</td>\n    </tr>\n    <tr>\n      <th>1</th>\n      <td>2021-05-01</td>\n      <td>512.650024</td>\n      <td>518.950012</td>\n      <td>478.540009</td>\n      <td>502.809998</td>\n      <td>66927600.0</td>\n    </tr>\n    <tr>\n      <th>2</th>\n      <td>2021-04-01</td>\n      <td>529.929993</td>\n      <td>563.559998</td>\n      <td>499.000000</td>\n      <td>513.469971</td>\n      <td>111573300.0</td>\n    </tr>\n    <tr>\n      <th>3</th>\n      <td>2021-03-01</td>\n      <td>545.570007</td>\n      <td>556.989990</td>\n      <td>492.850006</td>\n      <td>521.659973</td>\n      <td>90183900.0</td>\n    </tr>\n    <tr>\n      <th>4</th>\n      <td>2021-02-01</td>\n      <td>536.789978</td>\n      <td>566.650024</td>\n      <td>518.280029</td>\n      <td>538.849976</td>\n      <td>61902300.0</td>\n    </tr>\n    <tr>\n      <th>5</th>\n      <td>2021-01-01</td>\n      <td>539.000000</td>\n      <td>593.289978</td>\n      <td>485.670013</td>\n      <td>532.390015</td>\n      <td>139988600.0</td>\n    </tr>\n  </tbody>\n</table>\n</div>"
     },
     "metadata": {},
     "execution_count": 11
    }
   ],
   "source": [
    "#creating subset of dataframe for the year 2021. \n",
    "df2021=df1.loc[(df['Date']>='2021-01-01')&(df['Date']<='2021-06-01')]\n",
    "df2021"
   ]
  },
  {
   "cell_type": "code",
   "execution_count": 12,
   "metadata": {},
   "outputs": [
    {
     "output_type": "execute_result",
     "data": {
      "text/plain": [
       "<AxesSubplot:xlabel='Date'>"
      ]
     },
     "metadata": {},
     "execution_count": 12
    },
    {
     "output_type": "display_data",
     "data": {
      "text/plain": "<Figure size 1440x720 with 1 Axes>",
      "image/svg+xml": "<?xml version=\"1.0\" encoding=\"utf-8\" standalone=\"no\"?>\r\n<!DOCTYPE svg PUBLIC \"-//W3C//DTD SVG 1.1//EN\"\r\n  \"http://www.w3.org/Graphics/SVG/1.1/DTD/svg11.dtd\">\r\n<svg height=\"684.884375pt\" version=\"1.1\" viewBox=\"0 0 1156.4875 684.884375\" width=\"1156.4875pt\" xmlns=\"http://www.w3.org/2000/svg\" xmlns:xlink=\"http://www.w3.org/1999/xlink\">\r\n <metadata>\r\n  <rdf:RDF xmlns:cc=\"http://creativecommons.org/ns#\" xmlns:dc=\"http://purl.org/dc/elements/1.1/\" xmlns:rdf=\"http://www.w3.org/1999/02/22-rdf-syntax-ns#\">\r\n   <cc:Work>\r\n    <dc:type rdf:resource=\"http://purl.org/dc/dcmitype/StillImage\"/>\r\n    <dc:date>2021-07-03T12:10:52.716089</dc:date>\r\n    <dc:format>image/svg+xml</dc:format>\r\n    <dc:creator>\r\n     <cc:Agent>\r\n      <dc:title>Matplotlib v3.4.2, https://matplotlib.org/</dc:title>\r\n     </cc:Agent>\r\n    </dc:creator>\r\n   </cc:Work>\r\n  </rdf:RDF>\r\n </metadata>\r\n <defs>\r\n  <style type=\"text/css\">*{stroke-linecap:butt;stroke-linejoin:round;}</style>\r\n </defs>\r\n <g id=\"figure_1\">\r\n  <g id=\"patch_1\">\r\n   <path d=\"M 0 684.884375 \r\nL 1156.4875 684.884375 \r\nL 1156.4875 0 \r\nL 0 0 \r\nz\r\n\" style=\"fill:none;\"/>\r\n  </g>\r\n  <g id=\"axes_1\">\r\n   <g id=\"patch_2\">\r\n    <path d=\"M 33.2875 550.8 \r\nL 1149.2875 550.8 \r\nL 1149.2875 7.2 \r\nL 33.2875 7.2 \r\nz\r\n\" style=\"fill:#ffffff;\"/>\r\n   </g>\r\n   <g id=\"patch_3\">\r\n    <path clip-path=\"url(#pc2bd62e843)\" d=\"M 79.7875 550.8 \r\nL 103.0375 550.8 \r\nL 103.0375 80.460014 \r\nL 79.7875 80.460014 \r\nz\r\n\" style=\"fill:#1f77b4;\"/>\r\n   </g>\r\n   <g id=\"patch_4\">\r\n    <path clip-path=\"url(#pc2bd62e843)\" d=\"M 265.7875 550.8 \r\nL 289.0375 550.8 \r\nL 289.0375 82.388514 \r\nL 265.7875 82.388514 \r\nz\r\n\" style=\"fill:#1f77b4;\"/>\r\n   </g>\r\n   <g id=\"patch_5\">\r\n    <path clip-path=\"url(#pc2bd62e843)\" d=\"M 451.7875 550.8 \r\nL 475.0375 550.8 \r\nL 475.0375 74.726921 \r\nL 451.7875 74.726921 \r\nz\r\n\" style=\"fill:#1f77b4;\"/>\r\n   </g>\r\n   <g id=\"patch_6\">\r\n    <path clip-path=\"url(#pc2bd62e843)\" d=\"M 637.7875 550.8 \r\nL 661.0375 550.8 \r\nL 661.0375 88.374647 \r\nL 637.7875 88.374647 \r\nz\r\n\" style=\"fill:#1f77b4;\"/>\r\n   </g>\r\n   <g id=\"patch_7\">\r\n    <path clip-path=\"url(#pc2bd62e843)\" d=\"M 823.7875 550.8 \r\nL 847.0375 550.8 \r\nL 847.0375 103.453422 \r\nL 823.7875 103.453422 \r\nz\r\n\" style=\"fill:#1f77b4;\"/>\r\n   </g>\r\n   <g id=\"patch_8\">\r\n    <path clip-path=\"url(#pc2bd62e843)\" d=\"M 1009.7875 550.8 \r\nL 1033.0375 550.8 \r\nL 1033.0375 110.992837 \r\nL 1009.7875 110.992837 \r\nz\r\n\" style=\"fill:#1f77b4;\"/>\r\n   </g>\r\n   <g id=\"patch_9\">\r\n    <path clip-path=\"url(#pc2bd62e843)\" d=\"M 103.0375 550.8 \r\nL 126.2875 550.8 \r\nL 126.2875 33.085714 \r\nL 103.0375 33.085714 \r\nz\r\n\" style=\"fill:#ff7f0e;\"/>\r\n   </g>\r\n   <g id=\"patch_10\">\r\n    <path clip-path=\"url(#pc2bd62e843)\" d=\"M 289.0375 550.8 \r\nL 312.2875 550.8 \r\nL 312.2875 56.332162 \r\nL 289.0375 56.332162 \r\nz\r\n\" style=\"fill:#ff7f0e;\"/>\r\n   </g>\r\n   <g id=\"patch_11\">\r\n    <path clip-path=\"url(#pc2bd62e843)\" d=\"M 475.0375 550.8 \r\nL 498.2875 550.8 \r\nL 498.2875 64.761662 \r\nL 475.0375 64.761662 \r\nz\r\n\" style=\"fill:#ff7f0e;\"/>\r\n   </g>\r\n   <g id=\"patch_12\">\r\n    <path clip-path=\"url(#pc2bd62e843)\" d=\"M 661.0375 550.8 \r\nL 684.2875 550.8 \r\nL 684.2875 59.028569 \r\nL 661.0375 59.028569 \r\nz\r\n\" style=\"fill:#ff7f0e;\"/>\r\n   </g>\r\n   <g id=\"patch_13\">\r\n    <path clip-path=\"url(#pc2bd62e843)\" d=\"M 847.0375 550.8 \r\nL 870.2875 550.8 \r\nL 870.2875 97.955953 \r\nL 847.0375 97.955953 \r\nz\r\n\" style=\"fill:#ff7f0e;\"/>\r\n   </g>\r\n   <g id=\"patch_14\">\r\n    <path clip-path=\"url(#pc2bd62e843)\" d=\"M 1033.0375 550.8 \r\nL 1056.2875 550.8 \r\nL 1056.2875 82.964417 \r\nL 1033.0375 82.964417 \r\nz\r\n\" style=\"fill:#ff7f0e;\"/>\r\n   </g>\r\n   <g id=\"patch_15\">\r\n    <path clip-path=\"url(#pc2bd62e843)\" d=\"M 126.2875 550.8 \r\nL 149.5375 550.8 \r\nL 149.5375 126.99661 \r\nL 126.2875 126.99661 \r\nz\r\n\" style=\"fill:#2ca02c;\"/>\r\n   </g>\r\n   <g id=\"patch_16\">\r\n    <path clip-path=\"url(#pc2bd62e843)\" d=\"M 312.2875 550.8 \r\nL 335.5375 550.8 \r\nL 335.5375 98.54059 \r\nL 312.2875 98.54059 \r\nz\r\n\" style=\"fill:#2ca02c;\"/>\r\n   </g>\r\n   <g id=\"patch_17\">\r\n    <path clip-path=\"url(#pc2bd62e843)\" d=\"M 498.2875 550.8 \r\nL 521.5375 550.8 \r\nL 521.5375 120.731234 \r\nL 498.2875 120.731234 \r\nz\r\n\" style=\"fill:#2ca02c;\"/>\r\n   </g>\r\n   <g id=\"patch_18\">\r\n    <path clip-path=\"url(#pc2bd62e843)\" d=\"M 684.2875 550.8 \r\nL 707.5375 550.8 \r\nL 707.5375 115.364651 \r\nL 684.2875 115.364651 \r\nz\r\n\" style=\"fill:#2ca02c;\"/>\r\n   </g>\r\n   <g id=\"patch_19\">\r\n    <path clip-path=\"url(#pc2bd62e843)\" d=\"M 870.2875 550.8 \r\nL 893.5375 550.8 \r\nL 893.5375 133.218366 \r\nL 870.2875 133.218366 \r\nz\r\n\" style=\"fill:#2ca02c;\"/>\r\n   </g>\r\n   <g id=\"patch_20\">\r\n    <path clip-path=\"url(#pc2bd62e843)\" d=\"M 1056.2875 550.8 \r\nL 1079.5375 550.8 \r\nL 1079.5375 130.076943 \r\nL 1056.2875 130.076943 \r\nz\r\n\" style=\"fill:#2ca02c;\"/>\r\n   </g>\r\n   <g id=\"patch_21\">\r\n    <path clip-path=\"url(#pc2bd62e843)\" d=\"M 149.5375 550.8 \r\nL 172.7875 550.8 \r\nL 172.7875 86.227992 \r\nL 149.5375 86.227992 \r\nz\r\n\" style=\"fill:#d62728;\"/>\r\n   </g>\r\n   <g id=\"patch_22\">\r\n    <path clip-path=\"url(#pc2bd62e843)\" d=\"M 335.5375 550.8 \r\nL 358.7875 550.8 \r\nL 358.7875 80.590928 \r\nL 335.5375 80.590928 \r\nz\r\n\" style=\"fill:#d62728;\"/>\r\n   </g>\r\n   <g id=\"patch_23\">\r\n    <path clip-path=\"url(#pc2bd62e843)\" d=\"M 521.5375 550.8 \r\nL 544.7875 550.8 \r\nL 544.7875 95.591198 \r\nL 521.5375 95.591198 \r\nz\r\n\" style=\"fill:#d62728;\"/>\r\n   </g>\r\n   <g id=\"patch_24\">\r\n    <path clip-path=\"url(#pc2bd62e843)\" d=\"M 707.5375 550.8 \r\nL 730.7875 550.8 \r\nL 730.7875 102.737924 \r\nL 707.5375 102.737924 \r\nz\r\n\" style=\"fill:#d62728;\"/>\r\n   </g>\r\n   <g id=\"patch_25\">\r\n    <path clip-path=\"url(#pc2bd62e843)\" d=\"M 893.5375 550.8 \r\nL 916.7875 550.8 \r\nL 916.7875 112.039987 \r\nL 893.5375 112.039987 \r\nz\r\n\" style=\"fill:#d62728;\"/>\r\n   </g>\r\n   <g id=\"patch_26\">\r\n    <path clip-path=\"url(#pc2bd62e843)\" d=\"M 1079.5375 550.8 \r\nL 1102.7875 550.8 \r\nL 1102.7875 89.875521 \r\nL 1079.5375 89.875521 \r\nz\r\n\" style=\"fill:#d62728;\"/>\r\n   </g>\r\n   <g id=\"matplotlib.axis_1\">\r\n    <g id=\"xtick_1\">\r\n     <g id=\"line2d_1\">\r\n      <defs>\r\n       <path d=\"M 0 0 \r\nL 0 3.5 \r\n\" id=\"m2b3221a264\" style=\"stroke:#000000;stroke-width:0.8;\"/>\r\n      </defs>\r\n      <g>\r\n       <use style=\"stroke:#000000;stroke-width:0.8;\" x=\"126.2875\" xlink:href=\"#m2b3221a264\" y=\"550.8\"/>\r\n      </g>\r\n     </g>\r\n     <g id=\"text_1\">\r\n      <!-- 2021-01-01 00:00:00 -->\r\n      <g transform=\"translate(129.046875 664.00625)rotate(-90)scale(0.1 -0.1)\">\r\n       <defs>\r\n        <path d=\"M 1228 531 \r\nL 3431 531 \r\nL 3431 0 \r\nL 469 0 \r\nL 469 531 \r\nQ 828 903 1448 1529 \r\nQ 2069 2156 2228 2338 \r\nQ 2531 2678 2651 2914 \r\nQ 2772 3150 2772 3378 \r\nQ 2772 3750 2511 3984 \r\nQ 2250 4219 1831 4219 \r\nQ 1534 4219 1204 4116 \r\nQ 875 4013 500 3803 \r\nL 500 4441 \r\nQ 881 4594 1212 4672 \r\nQ 1544 4750 1819 4750 \r\nQ 2544 4750 2975 4387 \r\nQ 3406 4025 3406 3419 \r\nQ 3406 3131 3298 2873 \r\nQ 3191 2616 2906 2266 \r\nQ 2828 2175 2409 1742 \r\nQ 1991 1309 1228 531 \r\nz\r\n\" id=\"DejaVuSans-32\" transform=\"scale(0.015625)\"/>\r\n        <path d=\"M 2034 4250 \r\nQ 1547 4250 1301 3770 \r\nQ 1056 3291 1056 2328 \r\nQ 1056 1369 1301 889 \r\nQ 1547 409 2034 409 \r\nQ 2525 409 2770 889 \r\nQ 3016 1369 3016 2328 \r\nQ 3016 3291 2770 3770 \r\nQ 2525 4250 2034 4250 \r\nz\r\nM 2034 4750 \r\nQ 2819 4750 3233 4129 \r\nQ 3647 3509 3647 2328 \r\nQ 3647 1150 3233 529 \r\nQ 2819 -91 2034 -91 \r\nQ 1250 -91 836 529 \r\nQ 422 1150 422 2328 \r\nQ 422 3509 836 4129 \r\nQ 1250 4750 2034 4750 \r\nz\r\n\" id=\"DejaVuSans-30\" transform=\"scale(0.015625)\"/>\r\n        <path d=\"M 794 531 \r\nL 1825 531 \r\nL 1825 4091 \r\nL 703 3866 \r\nL 703 4441 \r\nL 1819 4666 \r\nL 2450 4666 \r\nL 2450 531 \r\nL 3481 531 \r\nL 3481 0 \r\nL 794 0 \r\nL 794 531 \r\nz\r\n\" id=\"DejaVuSans-31\" transform=\"scale(0.015625)\"/>\r\n        <path d=\"M 313 2009 \r\nL 1997 2009 \r\nL 1997 1497 \r\nL 313 1497 \r\nL 313 2009 \r\nz\r\n\" id=\"DejaVuSans-2d\" transform=\"scale(0.015625)\"/>\r\n        <path id=\"DejaVuSans-20\" transform=\"scale(0.015625)\"/>\r\n        <path d=\"M 750 794 \r\nL 1409 794 \r\nL 1409 0 \r\nL 750 0 \r\nL 750 794 \r\nz\r\nM 750 3309 \r\nL 1409 3309 \r\nL 1409 2516 \r\nL 750 2516 \r\nL 750 3309 \r\nz\r\n\" id=\"DejaVuSans-3a\" transform=\"scale(0.015625)\"/>\r\n       </defs>\r\n       <use xlink:href=\"#DejaVuSans-32\"/>\r\n       <use x=\"63.623047\" xlink:href=\"#DejaVuSans-30\"/>\r\n       <use x=\"127.246094\" xlink:href=\"#DejaVuSans-32\"/>\r\n       <use x=\"190.869141\" xlink:href=\"#DejaVuSans-31\"/>\r\n       <use x=\"254.492188\" xlink:href=\"#DejaVuSans-2d\"/>\r\n       <use x=\"290.576172\" xlink:href=\"#DejaVuSans-30\"/>\r\n       <use x=\"354.199219\" xlink:href=\"#DejaVuSans-31\"/>\r\n       <use x=\"417.822266\" xlink:href=\"#DejaVuSans-2d\"/>\r\n       <use x=\"453.90625\" xlink:href=\"#DejaVuSans-30\"/>\r\n       <use x=\"517.529297\" xlink:href=\"#DejaVuSans-31\"/>\r\n       <use x=\"581.152344\" xlink:href=\"#DejaVuSans-20\"/>\r\n       <use x=\"612.939453\" xlink:href=\"#DejaVuSans-30\"/>\r\n       <use x=\"676.5625\" xlink:href=\"#DejaVuSans-30\"/>\r\n       <use x=\"740.185547\" xlink:href=\"#DejaVuSans-3a\"/>\r\n       <use x=\"773.876953\" xlink:href=\"#DejaVuSans-30\"/>\r\n       <use x=\"837.5\" xlink:href=\"#DejaVuSans-30\"/>\r\n       <use x=\"901.123047\" xlink:href=\"#DejaVuSans-3a\"/>\r\n       <use x=\"934.814453\" xlink:href=\"#DejaVuSans-30\"/>\r\n       <use x=\"998.4375\" xlink:href=\"#DejaVuSans-30\"/>\r\n      </g>\r\n     </g>\r\n    </g>\r\n    <g id=\"xtick_2\">\r\n     <g id=\"line2d_2\">\r\n      <g>\r\n       <use style=\"stroke:#000000;stroke-width:0.8;\" x=\"312.2875\" xlink:href=\"#m2b3221a264\" y=\"550.8\"/>\r\n      </g>\r\n     </g>\r\n     <g id=\"text_2\">\r\n      <!-- 2021-02-01 00:00:00 -->\r\n      <g transform=\"translate(315.046875 664.00625)rotate(-90)scale(0.1 -0.1)\">\r\n       <use xlink:href=\"#DejaVuSans-32\"/>\r\n       <use x=\"63.623047\" xlink:href=\"#DejaVuSans-30\"/>\r\n       <use x=\"127.246094\" xlink:href=\"#DejaVuSans-32\"/>\r\n       <use x=\"190.869141\" xlink:href=\"#DejaVuSans-31\"/>\r\n       <use x=\"254.492188\" xlink:href=\"#DejaVuSans-2d\"/>\r\n       <use x=\"290.576172\" xlink:href=\"#DejaVuSans-30\"/>\r\n       <use x=\"354.199219\" xlink:href=\"#DejaVuSans-32\"/>\r\n       <use x=\"417.822266\" xlink:href=\"#DejaVuSans-2d\"/>\r\n       <use x=\"453.90625\" xlink:href=\"#DejaVuSans-30\"/>\r\n       <use x=\"517.529297\" xlink:href=\"#DejaVuSans-31\"/>\r\n       <use x=\"581.152344\" xlink:href=\"#DejaVuSans-20\"/>\r\n       <use x=\"612.939453\" xlink:href=\"#DejaVuSans-30\"/>\r\n       <use x=\"676.5625\" xlink:href=\"#DejaVuSans-30\"/>\r\n       <use x=\"740.185547\" xlink:href=\"#DejaVuSans-3a\"/>\r\n       <use x=\"773.876953\" xlink:href=\"#DejaVuSans-30\"/>\r\n       <use x=\"837.5\" xlink:href=\"#DejaVuSans-30\"/>\r\n       <use x=\"901.123047\" xlink:href=\"#DejaVuSans-3a\"/>\r\n       <use x=\"934.814453\" xlink:href=\"#DejaVuSans-30\"/>\r\n       <use x=\"998.4375\" xlink:href=\"#DejaVuSans-30\"/>\r\n      </g>\r\n     </g>\r\n    </g>\r\n    <g id=\"xtick_3\">\r\n     <g id=\"line2d_3\">\r\n      <g>\r\n       <use style=\"stroke:#000000;stroke-width:0.8;\" x=\"498.2875\" xlink:href=\"#m2b3221a264\" y=\"550.8\"/>\r\n      </g>\r\n     </g>\r\n     <g id=\"text_3\">\r\n      <!-- 2021-03-01 00:00:00 -->\r\n      <g transform=\"translate(501.046875 664.00625)rotate(-90)scale(0.1 -0.1)\">\r\n       <defs>\r\n        <path d=\"M 2597 2516 \r\nQ 3050 2419 3304 2112 \r\nQ 3559 1806 3559 1356 \r\nQ 3559 666 3084 287 \r\nQ 2609 -91 1734 -91 \r\nQ 1441 -91 1130 -33 \r\nQ 819 25 488 141 \r\nL 488 750 \r\nQ 750 597 1062 519 \r\nQ 1375 441 1716 441 \r\nQ 2309 441 2620 675 \r\nQ 2931 909 2931 1356 \r\nQ 2931 1769 2642 2001 \r\nQ 2353 2234 1838 2234 \r\nL 1294 2234 \r\nL 1294 2753 \r\nL 1863 2753 \r\nQ 2328 2753 2575 2939 \r\nQ 2822 3125 2822 3475 \r\nQ 2822 3834 2567 4026 \r\nQ 2313 4219 1838 4219 \r\nQ 1578 4219 1281 4162 \r\nQ 984 4106 628 3988 \r\nL 628 4550 \r\nQ 988 4650 1302 4700 \r\nQ 1616 4750 1894 4750 \r\nQ 2613 4750 3031 4423 \r\nQ 3450 4097 3450 3541 \r\nQ 3450 3153 3228 2886 \r\nQ 3006 2619 2597 2516 \r\nz\r\n\" id=\"DejaVuSans-33\" transform=\"scale(0.015625)\"/>\r\n       </defs>\r\n       <use xlink:href=\"#DejaVuSans-32\"/>\r\n       <use x=\"63.623047\" xlink:href=\"#DejaVuSans-30\"/>\r\n       <use x=\"127.246094\" xlink:href=\"#DejaVuSans-32\"/>\r\n       <use x=\"190.869141\" xlink:href=\"#DejaVuSans-31\"/>\r\n       <use x=\"254.492188\" xlink:href=\"#DejaVuSans-2d\"/>\r\n       <use x=\"290.576172\" xlink:href=\"#DejaVuSans-30\"/>\r\n       <use x=\"354.199219\" xlink:href=\"#DejaVuSans-33\"/>\r\n       <use x=\"417.822266\" xlink:href=\"#DejaVuSans-2d\"/>\r\n       <use x=\"453.90625\" xlink:href=\"#DejaVuSans-30\"/>\r\n       <use x=\"517.529297\" xlink:href=\"#DejaVuSans-31\"/>\r\n       <use x=\"581.152344\" xlink:href=\"#DejaVuSans-20\"/>\r\n       <use x=\"612.939453\" xlink:href=\"#DejaVuSans-30\"/>\r\n       <use x=\"676.5625\" xlink:href=\"#DejaVuSans-30\"/>\r\n       <use x=\"740.185547\" xlink:href=\"#DejaVuSans-3a\"/>\r\n       <use x=\"773.876953\" xlink:href=\"#DejaVuSans-30\"/>\r\n       <use x=\"837.5\" xlink:href=\"#DejaVuSans-30\"/>\r\n       <use x=\"901.123047\" xlink:href=\"#DejaVuSans-3a\"/>\r\n       <use x=\"934.814453\" xlink:href=\"#DejaVuSans-30\"/>\r\n       <use x=\"998.4375\" xlink:href=\"#DejaVuSans-30\"/>\r\n      </g>\r\n     </g>\r\n    </g>\r\n    <g id=\"xtick_4\">\r\n     <g id=\"line2d_4\">\r\n      <g>\r\n       <use style=\"stroke:#000000;stroke-width:0.8;\" x=\"684.2875\" xlink:href=\"#m2b3221a264\" y=\"550.8\"/>\r\n      </g>\r\n     </g>\r\n     <g id=\"text_4\">\r\n      <!-- 2021-04-01 00:00:00 -->\r\n      <g transform=\"translate(687.046875 664.00625)rotate(-90)scale(0.1 -0.1)\">\r\n       <defs>\r\n        <path d=\"M 2419 4116 \r\nL 825 1625 \r\nL 2419 1625 \r\nL 2419 4116 \r\nz\r\nM 2253 4666 \r\nL 3047 4666 \r\nL 3047 1625 \r\nL 3713 1625 \r\nL 3713 1100 \r\nL 3047 1100 \r\nL 3047 0 \r\nL 2419 0 \r\nL 2419 1100 \r\nL 313 1100 \r\nL 313 1709 \r\nL 2253 4666 \r\nz\r\n\" id=\"DejaVuSans-34\" transform=\"scale(0.015625)\"/>\r\n       </defs>\r\n       <use xlink:href=\"#DejaVuSans-32\"/>\r\n       <use x=\"63.623047\" xlink:href=\"#DejaVuSans-30\"/>\r\n       <use x=\"127.246094\" xlink:href=\"#DejaVuSans-32\"/>\r\n       <use x=\"190.869141\" xlink:href=\"#DejaVuSans-31\"/>\r\n       <use x=\"254.492188\" xlink:href=\"#DejaVuSans-2d\"/>\r\n       <use x=\"290.576172\" xlink:href=\"#DejaVuSans-30\"/>\r\n       <use x=\"354.199219\" xlink:href=\"#DejaVuSans-34\"/>\r\n       <use x=\"417.822266\" xlink:href=\"#DejaVuSans-2d\"/>\r\n       <use x=\"453.90625\" xlink:href=\"#DejaVuSans-30\"/>\r\n       <use x=\"517.529297\" xlink:href=\"#DejaVuSans-31\"/>\r\n       <use x=\"581.152344\" xlink:href=\"#DejaVuSans-20\"/>\r\n       <use x=\"612.939453\" xlink:href=\"#DejaVuSans-30\"/>\r\n       <use x=\"676.5625\" xlink:href=\"#DejaVuSans-30\"/>\r\n       <use x=\"740.185547\" xlink:href=\"#DejaVuSans-3a\"/>\r\n       <use x=\"773.876953\" xlink:href=\"#DejaVuSans-30\"/>\r\n       <use x=\"837.5\" xlink:href=\"#DejaVuSans-30\"/>\r\n       <use x=\"901.123047\" xlink:href=\"#DejaVuSans-3a\"/>\r\n       <use x=\"934.814453\" xlink:href=\"#DejaVuSans-30\"/>\r\n       <use x=\"998.4375\" xlink:href=\"#DejaVuSans-30\"/>\r\n      </g>\r\n     </g>\r\n    </g>\r\n    <g id=\"xtick_5\">\r\n     <g id=\"line2d_5\">\r\n      <g>\r\n       <use style=\"stroke:#000000;stroke-width:0.8;\" x=\"870.2875\" xlink:href=\"#m2b3221a264\" y=\"550.8\"/>\r\n      </g>\r\n     </g>\r\n     <g id=\"text_5\">\r\n      <!-- 2021-05-01 00:00:00 -->\r\n      <g transform=\"translate(873.046875 664.00625)rotate(-90)scale(0.1 -0.1)\">\r\n       <defs>\r\n        <path d=\"M 691 4666 \r\nL 3169 4666 \r\nL 3169 4134 \r\nL 1269 4134 \r\nL 1269 2991 \r\nQ 1406 3038 1543 3061 \r\nQ 1681 3084 1819 3084 \r\nQ 2600 3084 3056 2656 \r\nQ 3513 2228 3513 1497 \r\nQ 3513 744 3044 326 \r\nQ 2575 -91 1722 -91 \r\nQ 1428 -91 1123 -41 \r\nQ 819 9 494 109 \r\nL 494 744 \r\nQ 775 591 1075 516 \r\nQ 1375 441 1709 441 \r\nQ 2250 441 2565 725 \r\nQ 2881 1009 2881 1497 \r\nQ 2881 1984 2565 2268 \r\nQ 2250 2553 1709 2553 \r\nQ 1456 2553 1204 2497 \r\nQ 953 2441 691 2322 \r\nL 691 4666 \r\nz\r\n\" id=\"DejaVuSans-35\" transform=\"scale(0.015625)\"/>\r\n       </defs>\r\n       <use xlink:href=\"#DejaVuSans-32\"/>\r\n       <use x=\"63.623047\" xlink:href=\"#DejaVuSans-30\"/>\r\n       <use x=\"127.246094\" xlink:href=\"#DejaVuSans-32\"/>\r\n       <use x=\"190.869141\" xlink:href=\"#DejaVuSans-31\"/>\r\n       <use x=\"254.492188\" xlink:href=\"#DejaVuSans-2d\"/>\r\n       <use x=\"290.576172\" xlink:href=\"#DejaVuSans-30\"/>\r\n       <use x=\"354.199219\" xlink:href=\"#DejaVuSans-35\"/>\r\n       <use x=\"417.822266\" xlink:href=\"#DejaVuSans-2d\"/>\r\n       <use x=\"453.90625\" xlink:href=\"#DejaVuSans-30\"/>\r\n       <use x=\"517.529297\" xlink:href=\"#DejaVuSans-31\"/>\r\n       <use x=\"581.152344\" xlink:href=\"#DejaVuSans-20\"/>\r\n       <use x=\"612.939453\" xlink:href=\"#DejaVuSans-30\"/>\r\n       <use x=\"676.5625\" xlink:href=\"#DejaVuSans-30\"/>\r\n       <use x=\"740.185547\" xlink:href=\"#DejaVuSans-3a\"/>\r\n       <use x=\"773.876953\" xlink:href=\"#DejaVuSans-30\"/>\r\n       <use x=\"837.5\" xlink:href=\"#DejaVuSans-30\"/>\r\n       <use x=\"901.123047\" xlink:href=\"#DejaVuSans-3a\"/>\r\n       <use x=\"934.814453\" xlink:href=\"#DejaVuSans-30\"/>\r\n       <use x=\"998.4375\" xlink:href=\"#DejaVuSans-30\"/>\r\n      </g>\r\n     </g>\r\n    </g>\r\n    <g id=\"xtick_6\">\r\n     <g id=\"line2d_6\">\r\n      <g>\r\n       <use style=\"stroke:#000000;stroke-width:0.8;\" x=\"1056.2875\" xlink:href=\"#m2b3221a264\" y=\"550.8\"/>\r\n      </g>\r\n     </g>\r\n     <g id=\"text_6\">\r\n      <!-- 2021-06-01 00:00:00 -->\r\n      <g transform=\"translate(1059.046875 664.00625)rotate(-90)scale(0.1 -0.1)\">\r\n       <defs>\r\n        <path d=\"M 2113 2584 \r\nQ 1688 2584 1439 2293 \r\nQ 1191 2003 1191 1497 \r\nQ 1191 994 1439 701 \r\nQ 1688 409 2113 409 \r\nQ 2538 409 2786 701 \r\nQ 3034 994 3034 1497 \r\nQ 3034 2003 2786 2293 \r\nQ 2538 2584 2113 2584 \r\nz\r\nM 3366 4563 \r\nL 3366 3988 \r\nQ 3128 4100 2886 4159 \r\nQ 2644 4219 2406 4219 \r\nQ 1781 4219 1451 3797 \r\nQ 1122 3375 1075 2522 \r\nQ 1259 2794 1537 2939 \r\nQ 1816 3084 2150 3084 \r\nQ 2853 3084 3261 2657 \r\nQ 3669 2231 3669 1497 \r\nQ 3669 778 3244 343 \r\nQ 2819 -91 2113 -91 \r\nQ 1303 -91 875 529 \r\nQ 447 1150 447 2328 \r\nQ 447 3434 972 4092 \r\nQ 1497 4750 2381 4750 \r\nQ 2619 4750 2861 4703 \r\nQ 3103 4656 3366 4563 \r\nz\r\n\" id=\"DejaVuSans-36\" transform=\"scale(0.015625)\"/>\r\n       </defs>\r\n       <use xlink:href=\"#DejaVuSans-32\"/>\r\n       <use x=\"63.623047\" xlink:href=\"#DejaVuSans-30\"/>\r\n       <use x=\"127.246094\" xlink:href=\"#DejaVuSans-32\"/>\r\n       <use x=\"190.869141\" xlink:href=\"#DejaVuSans-31\"/>\r\n       <use x=\"254.492188\" xlink:href=\"#DejaVuSans-2d\"/>\r\n       <use x=\"290.576172\" xlink:href=\"#DejaVuSans-30\"/>\r\n       <use x=\"354.199219\" xlink:href=\"#DejaVuSans-36\"/>\r\n       <use x=\"417.822266\" xlink:href=\"#DejaVuSans-2d\"/>\r\n       <use x=\"453.90625\" xlink:href=\"#DejaVuSans-30\"/>\r\n       <use x=\"517.529297\" xlink:href=\"#DejaVuSans-31\"/>\r\n       <use x=\"581.152344\" xlink:href=\"#DejaVuSans-20\"/>\r\n       <use x=\"612.939453\" xlink:href=\"#DejaVuSans-30\"/>\r\n       <use x=\"676.5625\" xlink:href=\"#DejaVuSans-30\"/>\r\n       <use x=\"740.185547\" xlink:href=\"#DejaVuSans-3a\"/>\r\n       <use x=\"773.876953\" xlink:href=\"#DejaVuSans-30\"/>\r\n       <use x=\"837.5\" xlink:href=\"#DejaVuSans-30\"/>\r\n       <use x=\"901.123047\" xlink:href=\"#DejaVuSans-3a\"/>\r\n       <use x=\"934.814453\" xlink:href=\"#DejaVuSans-30\"/>\r\n       <use x=\"998.4375\" xlink:href=\"#DejaVuSans-30\"/>\r\n      </g>\r\n     </g>\r\n    </g>\r\n    <g id=\"text_7\">\r\n     <!-- Date -->\r\n     <g transform=\"translate(579.336719 675.604688)scale(0.1 -0.1)\">\r\n      <defs>\r\n       <path d=\"M 1259 4147 \r\nL 1259 519 \r\nL 2022 519 \r\nQ 2988 519 3436 956 \r\nQ 3884 1394 3884 2338 \r\nQ 3884 3275 3436 3711 \r\nQ 2988 4147 2022 4147 \r\nL 1259 4147 \r\nz\r\nM 628 4666 \r\nL 1925 4666 \r\nQ 3281 4666 3915 4102 \r\nQ 4550 3538 4550 2338 \r\nQ 4550 1131 3912 565 \r\nQ 3275 0 1925 0 \r\nL 628 0 \r\nL 628 4666 \r\nz\r\n\" id=\"DejaVuSans-44\" transform=\"scale(0.015625)\"/>\r\n       <path d=\"M 2194 1759 \r\nQ 1497 1759 1228 1600 \r\nQ 959 1441 959 1056 \r\nQ 959 750 1161 570 \r\nQ 1363 391 1709 391 \r\nQ 2188 391 2477 730 \r\nQ 2766 1069 2766 1631 \r\nL 2766 1759 \r\nL 2194 1759 \r\nz\r\nM 3341 1997 \r\nL 3341 0 \r\nL 2766 0 \r\nL 2766 531 \r\nQ 2569 213 2275 61 \r\nQ 1981 -91 1556 -91 \r\nQ 1019 -91 701 211 \r\nQ 384 513 384 1019 \r\nQ 384 1609 779 1909 \r\nQ 1175 2209 1959 2209 \r\nL 2766 2209 \r\nL 2766 2266 \r\nQ 2766 2663 2505 2880 \r\nQ 2244 3097 1772 3097 \r\nQ 1472 3097 1187 3025 \r\nQ 903 2953 641 2809 \r\nL 641 3341 \r\nQ 956 3463 1253 3523 \r\nQ 1550 3584 1831 3584 \r\nQ 2591 3584 2966 3190 \r\nQ 3341 2797 3341 1997 \r\nz\r\n\" id=\"DejaVuSans-61\" transform=\"scale(0.015625)\"/>\r\n       <path d=\"M 1172 4494 \r\nL 1172 3500 \r\nL 2356 3500 \r\nL 2356 3053 \r\nL 1172 3053 \r\nL 1172 1153 \r\nQ 1172 725 1289 603 \r\nQ 1406 481 1766 481 \r\nL 2356 481 \r\nL 2356 0 \r\nL 1766 0 \r\nQ 1100 0 847 248 \r\nQ 594 497 594 1153 \r\nL 594 3053 \r\nL 172 3053 \r\nL 172 3500 \r\nL 594 3500 \r\nL 594 4494 \r\nL 1172 4494 \r\nz\r\n\" id=\"DejaVuSans-74\" transform=\"scale(0.015625)\"/>\r\n       <path d=\"M 3597 1894 \r\nL 3597 1613 \r\nL 953 1613 \r\nQ 991 1019 1311 708 \r\nQ 1631 397 2203 397 \r\nQ 2534 397 2845 478 \r\nQ 3156 559 3463 722 \r\nL 3463 178 \r\nQ 3153 47 2828 -22 \r\nQ 2503 -91 2169 -91 \r\nQ 1331 -91 842 396 \r\nQ 353 884 353 1716 \r\nQ 353 2575 817 3079 \r\nQ 1281 3584 2069 3584 \r\nQ 2775 3584 3186 3129 \r\nQ 3597 2675 3597 1894 \r\nz\r\nM 3022 2063 \r\nQ 3016 2534 2758 2815 \r\nQ 2500 3097 2075 3097 \r\nQ 1594 3097 1305 2825 \r\nQ 1016 2553 972 2059 \r\nL 3022 2063 \r\nz\r\n\" id=\"DejaVuSans-65\" transform=\"scale(0.015625)\"/>\r\n      </defs>\r\n      <use xlink:href=\"#DejaVuSans-44\"/>\r\n      <use x=\"77.001953\" xlink:href=\"#DejaVuSans-61\"/>\r\n      <use x=\"138.28125\" xlink:href=\"#DejaVuSans-74\"/>\r\n      <use x=\"177.490234\" xlink:href=\"#DejaVuSans-65\"/>\r\n     </g>\r\n    </g>\r\n   </g>\r\n   <g id=\"matplotlib.axis_2\">\r\n    <g id=\"ytick_1\">\r\n     <g id=\"line2d_7\">\r\n      <defs>\r\n       <path d=\"M 0 0 \r\nL -3.5 0 \r\n\" id=\"m6f9a4a1664\" style=\"stroke:#000000;stroke-width:0.8;\"/>\r\n      </defs>\r\n      <g>\r\n       <use style=\"stroke:#000000;stroke-width:0.8;\" x=\"33.2875\" xlink:href=\"#m6f9a4a1664\" y=\"550.8\"/>\r\n      </g>\r\n     </g>\r\n     <g id=\"text_8\">\r\n      <!-- 0 -->\r\n      <g transform=\"translate(19.925 554.599219)scale(0.1 -0.1)\">\r\n       <use xlink:href=\"#DejaVuSans-30\"/>\r\n      </g>\r\n     </g>\r\n    </g>\r\n    <g id=\"ytick_2\">\r\n     <g id=\"line2d_8\">\r\n      <g>\r\n       <use style=\"stroke:#000000;stroke-width:0.8;\" x=\"33.2875\" xlink:href=\"#m6f9a4a1664\" y=\"463.538407\"/>\r\n      </g>\r\n     </g>\r\n     <g id=\"text_9\">\r\n      <!-- 100 -->\r\n      <g transform=\"translate(7.2 467.337626)scale(0.1 -0.1)\">\r\n       <use xlink:href=\"#DejaVuSans-31\"/>\r\n       <use x=\"63.623047\" xlink:href=\"#DejaVuSans-30\"/>\r\n       <use x=\"127.246094\" xlink:href=\"#DejaVuSans-30\"/>\r\n      </g>\r\n     </g>\r\n    </g>\r\n    <g id=\"ytick_3\">\r\n     <g id=\"line2d_9\">\r\n      <g>\r\n       <use style=\"stroke:#000000;stroke-width:0.8;\" x=\"33.2875\" xlink:href=\"#m6f9a4a1664\" y=\"376.276814\"/>\r\n      </g>\r\n     </g>\r\n     <g id=\"text_10\">\r\n      <!-- 200 -->\r\n      <g transform=\"translate(7.2 380.076033)scale(0.1 -0.1)\">\r\n       <use xlink:href=\"#DejaVuSans-32\"/>\r\n       <use x=\"63.623047\" xlink:href=\"#DejaVuSans-30\"/>\r\n       <use x=\"127.246094\" xlink:href=\"#DejaVuSans-30\"/>\r\n      </g>\r\n     </g>\r\n    </g>\r\n    <g id=\"ytick_4\">\r\n     <g id=\"line2d_10\">\r\n      <g>\r\n       <use style=\"stroke:#000000;stroke-width:0.8;\" x=\"33.2875\" xlink:href=\"#m6f9a4a1664\" y=\"289.015221\"/>\r\n      </g>\r\n     </g>\r\n     <g id=\"text_11\">\r\n      <!-- 300 -->\r\n      <g transform=\"translate(7.2 292.81444)scale(0.1 -0.1)\">\r\n       <use xlink:href=\"#DejaVuSans-33\"/>\r\n       <use x=\"63.623047\" xlink:href=\"#DejaVuSans-30\"/>\r\n       <use x=\"127.246094\" xlink:href=\"#DejaVuSans-30\"/>\r\n      </g>\r\n     </g>\r\n    </g>\r\n    <g id=\"ytick_5\">\r\n     <g id=\"line2d_11\">\r\n      <g>\r\n       <use style=\"stroke:#000000;stroke-width:0.8;\" x=\"33.2875\" xlink:href=\"#m6f9a4a1664\" y=\"201.753628\"/>\r\n      </g>\r\n     </g>\r\n     <g id=\"text_12\">\r\n      <!-- 400 -->\r\n      <g transform=\"translate(7.2 205.552847)scale(0.1 -0.1)\">\r\n       <use xlink:href=\"#DejaVuSans-34\"/>\r\n       <use x=\"63.623047\" xlink:href=\"#DejaVuSans-30\"/>\r\n       <use x=\"127.246094\" xlink:href=\"#DejaVuSans-30\"/>\r\n      </g>\r\n     </g>\r\n    </g>\r\n    <g id=\"ytick_6\">\r\n     <g id=\"line2d_12\">\r\n      <g>\r\n       <use style=\"stroke:#000000;stroke-width:0.8;\" x=\"33.2875\" xlink:href=\"#m6f9a4a1664\" y=\"114.492035\"/>\r\n      </g>\r\n     </g>\r\n     <g id=\"text_13\">\r\n      <!-- 500 -->\r\n      <g transform=\"translate(7.2 118.291254)scale(0.1 -0.1)\">\r\n       <use xlink:href=\"#DejaVuSans-35\"/>\r\n       <use x=\"63.623047\" xlink:href=\"#DejaVuSans-30\"/>\r\n       <use x=\"127.246094\" xlink:href=\"#DejaVuSans-30\"/>\r\n      </g>\r\n     </g>\r\n    </g>\r\n    <g id=\"ytick_7\">\r\n     <g id=\"line2d_13\">\r\n      <g>\r\n       <use style=\"stroke:#000000;stroke-width:0.8;\" x=\"33.2875\" xlink:href=\"#m6f9a4a1664\" y=\"27.230442\"/>\r\n      </g>\r\n     </g>\r\n     <g id=\"text_14\">\r\n      <!-- 600 -->\r\n      <g transform=\"translate(7.2 31.029661)scale(0.1 -0.1)\">\r\n       <use xlink:href=\"#DejaVuSans-36\"/>\r\n       <use x=\"63.623047\" xlink:href=\"#DejaVuSans-30\"/>\r\n       <use x=\"127.246094\" xlink:href=\"#DejaVuSans-30\"/>\r\n      </g>\r\n     </g>\r\n    </g>\r\n   </g>\r\n   <g id=\"patch_27\">\r\n    <path d=\"M 33.2875 550.8 \r\nL 33.2875 7.2 \r\n\" style=\"fill:none;stroke:#000000;stroke-linecap:square;stroke-linejoin:miter;stroke-width:0.8;\"/>\r\n   </g>\r\n   <g id=\"patch_28\">\r\n    <path d=\"M 1149.2875 550.8 \r\nL 1149.2875 7.2 \r\n\" style=\"fill:none;stroke:#000000;stroke-linecap:square;stroke-linejoin:miter;stroke-width:0.8;\"/>\r\n   </g>\r\n   <g id=\"patch_29\">\r\n    <path d=\"M 33.2875 550.8 \r\nL 1149.2875 550.8 \r\n\" style=\"fill:none;stroke:#000000;stroke-linecap:square;stroke-linejoin:miter;stroke-width:0.8;\"/>\r\n   </g>\r\n   <g id=\"patch_30\">\r\n    <path d=\"M 33.2875 7.2 \r\nL 1149.2875 7.2 \r\n\" style=\"fill:none;stroke:#000000;stroke-linecap:square;stroke-linejoin:miter;stroke-width:0.8;\"/>\r\n   </g>\r\n   <g id=\"legend_1\">\r\n    <g id=\"patch_31\">\r\n     <path d=\"M 1083.045312 73.9125 \r\nL 1142.2875 73.9125 \r\nQ 1144.2875 73.9125 1144.2875 71.9125 \r\nL 1144.2875 14.2 \r\nQ 1144.2875 12.2 1142.2875 12.2 \r\nL 1083.045312 12.2 \r\nQ 1081.045312 12.2 1081.045312 14.2 \r\nL 1081.045312 71.9125 \r\nQ 1081.045312 73.9125 1083.045312 73.9125 \r\nz\r\n\" style=\"fill:#ffffff;opacity:0.8;stroke:#cccccc;stroke-linejoin:miter;\"/>\r\n    </g>\r\n    <g id=\"patch_32\">\r\n     <path d=\"M 1085.045312 23.798437 \r\nL 1105.045312 23.798437 \r\nL 1105.045312 16.798437 \r\nL 1085.045312 16.798437 \r\nz\r\n\" style=\"fill:#1f77b4;\"/>\r\n    </g>\r\n    <g id=\"text_15\">\r\n     <!-- Open -->\r\n     <g transform=\"translate(1113.045312 23.798437)scale(0.1 -0.1)\">\r\n      <defs>\r\n       <path d=\"M 2522 4238 \r\nQ 1834 4238 1429 3725 \r\nQ 1025 3213 1025 2328 \r\nQ 1025 1447 1429 934 \r\nQ 1834 422 2522 422 \r\nQ 3209 422 3611 934 \r\nQ 4013 1447 4013 2328 \r\nQ 4013 3213 3611 3725 \r\nQ 3209 4238 2522 4238 \r\nz\r\nM 2522 4750 \r\nQ 3503 4750 4090 4092 \r\nQ 4678 3434 4678 2328 \r\nQ 4678 1225 4090 567 \r\nQ 3503 -91 2522 -91 \r\nQ 1538 -91 948 565 \r\nQ 359 1222 359 2328 \r\nQ 359 3434 948 4092 \r\nQ 1538 4750 2522 4750 \r\nz\r\n\" id=\"DejaVuSans-4f\" transform=\"scale(0.015625)\"/>\r\n       <path d=\"M 1159 525 \r\nL 1159 -1331 \r\nL 581 -1331 \r\nL 581 3500 \r\nL 1159 3500 \r\nL 1159 2969 \r\nQ 1341 3281 1617 3432 \r\nQ 1894 3584 2278 3584 \r\nQ 2916 3584 3314 3078 \r\nQ 3713 2572 3713 1747 \r\nQ 3713 922 3314 415 \r\nQ 2916 -91 2278 -91 \r\nQ 1894 -91 1617 61 \r\nQ 1341 213 1159 525 \r\nz\r\nM 3116 1747 \r\nQ 3116 2381 2855 2742 \r\nQ 2594 3103 2138 3103 \r\nQ 1681 3103 1420 2742 \r\nQ 1159 2381 1159 1747 \r\nQ 1159 1113 1420 752 \r\nQ 1681 391 2138 391 \r\nQ 2594 391 2855 752 \r\nQ 3116 1113 3116 1747 \r\nz\r\n\" id=\"DejaVuSans-70\" transform=\"scale(0.015625)\"/>\r\n       <path d=\"M 3513 2113 \r\nL 3513 0 \r\nL 2938 0 \r\nL 2938 2094 \r\nQ 2938 2591 2744 2837 \r\nQ 2550 3084 2163 3084 \r\nQ 1697 3084 1428 2787 \r\nQ 1159 2491 1159 1978 \r\nL 1159 0 \r\nL 581 0 \r\nL 581 3500 \r\nL 1159 3500 \r\nL 1159 2956 \r\nQ 1366 3272 1645 3428 \r\nQ 1925 3584 2291 3584 \r\nQ 2894 3584 3203 3211 \r\nQ 3513 2838 3513 2113 \r\nz\r\n\" id=\"DejaVuSans-6e\" transform=\"scale(0.015625)\"/>\r\n      </defs>\r\n      <use xlink:href=\"#DejaVuSans-4f\"/>\r\n      <use x=\"78.710938\" xlink:href=\"#DejaVuSans-70\"/>\r\n      <use x=\"142.1875\" xlink:href=\"#DejaVuSans-65\"/>\r\n      <use x=\"203.710938\" xlink:href=\"#DejaVuSans-6e\"/>\r\n     </g>\r\n    </g>\r\n    <g id=\"patch_33\">\r\n     <path d=\"M 1085.045312 38.476562 \r\nL 1105.045312 38.476562 \r\nL 1105.045312 31.476562 \r\nL 1085.045312 31.476562 \r\nz\r\n\" style=\"fill:#ff7f0e;\"/>\r\n    </g>\r\n    <g id=\"text_16\">\r\n     <!-- High -->\r\n     <g transform=\"translate(1113.045312 38.476562)scale(0.1 -0.1)\">\r\n      <defs>\r\n       <path d=\"M 628 4666 \r\nL 1259 4666 \r\nL 1259 2753 \r\nL 3553 2753 \r\nL 3553 4666 \r\nL 4184 4666 \r\nL 4184 0 \r\nL 3553 0 \r\nL 3553 2222 \r\nL 1259 2222 \r\nL 1259 0 \r\nL 628 0 \r\nL 628 4666 \r\nz\r\n\" id=\"DejaVuSans-48\" transform=\"scale(0.015625)\"/>\r\n       <path d=\"M 603 3500 \r\nL 1178 3500 \r\nL 1178 0 \r\nL 603 0 \r\nL 603 3500 \r\nz\r\nM 603 4863 \r\nL 1178 4863 \r\nL 1178 4134 \r\nL 603 4134 \r\nL 603 4863 \r\nz\r\n\" id=\"DejaVuSans-69\" transform=\"scale(0.015625)\"/>\r\n       <path d=\"M 2906 1791 \r\nQ 2906 2416 2648 2759 \r\nQ 2391 3103 1925 3103 \r\nQ 1463 3103 1205 2759 \r\nQ 947 2416 947 1791 \r\nQ 947 1169 1205 825 \r\nQ 1463 481 1925 481 \r\nQ 2391 481 2648 825 \r\nQ 2906 1169 2906 1791 \r\nz\r\nM 3481 434 \r\nQ 3481 -459 3084 -895 \r\nQ 2688 -1331 1869 -1331 \r\nQ 1566 -1331 1297 -1286 \r\nQ 1028 -1241 775 -1147 \r\nL 775 -588 \r\nQ 1028 -725 1275 -790 \r\nQ 1522 -856 1778 -856 \r\nQ 2344 -856 2625 -561 \r\nQ 2906 -266 2906 331 \r\nL 2906 616 \r\nQ 2728 306 2450 153 \r\nQ 2172 0 1784 0 \r\nQ 1141 0 747 490 \r\nQ 353 981 353 1791 \r\nQ 353 2603 747 3093 \r\nQ 1141 3584 1784 3584 \r\nQ 2172 3584 2450 3431 \r\nQ 2728 3278 2906 2969 \r\nL 2906 3500 \r\nL 3481 3500 \r\nL 3481 434 \r\nz\r\n\" id=\"DejaVuSans-67\" transform=\"scale(0.015625)\"/>\r\n       <path d=\"M 3513 2113 \r\nL 3513 0 \r\nL 2938 0 \r\nL 2938 2094 \r\nQ 2938 2591 2744 2837 \r\nQ 2550 3084 2163 3084 \r\nQ 1697 3084 1428 2787 \r\nQ 1159 2491 1159 1978 \r\nL 1159 0 \r\nL 581 0 \r\nL 581 4863 \r\nL 1159 4863 \r\nL 1159 2956 \r\nQ 1366 3272 1645 3428 \r\nQ 1925 3584 2291 3584 \r\nQ 2894 3584 3203 3211 \r\nQ 3513 2838 3513 2113 \r\nz\r\n\" id=\"DejaVuSans-68\" transform=\"scale(0.015625)\"/>\r\n      </defs>\r\n      <use xlink:href=\"#DejaVuSans-48\"/>\r\n      <use x=\"75.195312\" xlink:href=\"#DejaVuSans-69\"/>\r\n      <use x=\"102.978516\" xlink:href=\"#DejaVuSans-67\"/>\r\n      <use x=\"166.455078\" xlink:href=\"#DejaVuSans-68\"/>\r\n     </g>\r\n    </g>\r\n    <g id=\"patch_34\">\r\n     <path d=\"M 1085.045312 53.154688 \r\nL 1105.045312 53.154688 \r\nL 1105.045312 46.154688 \r\nL 1085.045312 46.154688 \r\nz\r\n\" style=\"fill:#2ca02c;\"/>\r\n    </g>\r\n    <g id=\"text_17\">\r\n     <!-- Low -->\r\n     <g transform=\"translate(1113.045312 53.154688)scale(0.1 -0.1)\">\r\n      <defs>\r\n       <path d=\"M 628 4666 \r\nL 1259 4666 \r\nL 1259 531 \r\nL 3531 531 \r\nL 3531 0 \r\nL 628 0 \r\nL 628 4666 \r\nz\r\n\" id=\"DejaVuSans-4c\" transform=\"scale(0.015625)\"/>\r\n       <path d=\"M 1959 3097 \r\nQ 1497 3097 1228 2736 \r\nQ 959 2375 959 1747 \r\nQ 959 1119 1226 758 \r\nQ 1494 397 1959 397 \r\nQ 2419 397 2687 759 \r\nQ 2956 1122 2956 1747 \r\nQ 2956 2369 2687 2733 \r\nQ 2419 3097 1959 3097 \r\nz\r\nM 1959 3584 \r\nQ 2709 3584 3137 3096 \r\nQ 3566 2609 3566 1747 \r\nQ 3566 888 3137 398 \r\nQ 2709 -91 1959 -91 \r\nQ 1206 -91 779 398 \r\nQ 353 888 353 1747 \r\nQ 353 2609 779 3096 \r\nQ 1206 3584 1959 3584 \r\nz\r\n\" id=\"DejaVuSans-6f\" transform=\"scale(0.015625)\"/>\r\n       <path d=\"M 269 3500 \r\nL 844 3500 \r\nL 1563 769 \r\nL 2278 3500 \r\nL 2956 3500 \r\nL 3675 769 \r\nL 4391 3500 \r\nL 4966 3500 \r\nL 4050 0 \r\nL 3372 0 \r\nL 2619 2869 \r\nL 1863 0 \r\nL 1184 0 \r\nL 269 3500 \r\nz\r\n\" id=\"DejaVuSans-77\" transform=\"scale(0.015625)\"/>\r\n      </defs>\r\n      <use xlink:href=\"#DejaVuSans-4c\"/>\r\n      <use x=\"53.962891\" xlink:href=\"#DejaVuSans-6f\"/>\r\n      <use x=\"115.144531\" xlink:href=\"#DejaVuSans-77\"/>\r\n     </g>\r\n    </g>\r\n    <g id=\"patch_35\">\r\n     <path d=\"M 1085.045312 67.832812 \r\nL 1105.045312 67.832812 \r\nL 1105.045312 60.832812 \r\nL 1085.045312 60.832812 \r\nz\r\n\" style=\"fill:#d62728;\"/>\r\n    </g>\r\n    <g id=\"text_18\">\r\n     <!-- Close -->\r\n     <g transform=\"translate(1113.045312 67.832812)scale(0.1 -0.1)\">\r\n      <defs>\r\n       <path d=\"M 4122 4306 \r\nL 4122 3641 \r\nQ 3803 3938 3442 4084 \r\nQ 3081 4231 2675 4231 \r\nQ 1875 4231 1450 3742 \r\nQ 1025 3253 1025 2328 \r\nQ 1025 1406 1450 917 \r\nQ 1875 428 2675 428 \r\nQ 3081 428 3442 575 \r\nQ 3803 722 4122 1019 \r\nL 4122 359 \r\nQ 3791 134 3420 21 \r\nQ 3050 -91 2638 -91 \r\nQ 1578 -91 968 557 \r\nQ 359 1206 359 2328 \r\nQ 359 3453 968 4101 \r\nQ 1578 4750 2638 4750 \r\nQ 3056 4750 3426 4639 \r\nQ 3797 4528 4122 4306 \r\nz\r\n\" id=\"DejaVuSans-43\" transform=\"scale(0.015625)\"/>\r\n       <path d=\"M 603 4863 \r\nL 1178 4863 \r\nL 1178 0 \r\nL 603 0 \r\nL 603 4863 \r\nz\r\n\" id=\"DejaVuSans-6c\" transform=\"scale(0.015625)\"/>\r\n       <path d=\"M 2834 3397 \r\nL 2834 2853 \r\nQ 2591 2978 2328 3040 \r\nQ 2066 3103 1784 3103 \r\nQ 1356 3103 1142 2972 \r\nQ 928 2841 928 2578 \r\nQ 928 2378 1081 2264 \r\nQ 1234 2150 1697 2047 \r\nL 1894 2003 \r\nQ 2506 1872 2764 1633 \r\nQ 3022 1394 3022 966 \r\nQ 3022 478 2636 193 \r\nQ 2250 -91 1575 -91 \r\nQ 1294 -91 989 -36 \r\nQ 684 19 347 128 \r\nL 347 722 \r\nQ 666 556 975 473 \r\nQ 1284 391 1588 391 \r\nQ 1994 391 2212 530 \r\nQ 2431 669 2431 922 \r\nQ 2431 1156 2273 1281 \r\nQ 2116 1406 1581 1522 \r\nL 1381 1569 \r\nQ 847 1681 609 1914 \r\nQ 372 2147 372 2553 \r\nQ 372 3047 722 3315 \r\nQ 1072 3584 1716 3584 \r\nQ 2034 3584 2315 3537 \r\nQ 2597 3491 2834 3397 \r\nz\r\n\" id=\"DejaVuSans-73\" transform=\"scale(0.015625)\"/>\r\n      </defs>\r\n      <use xlink:href=\"#DejaVuSans-43\"/>\r\n      <use x=\"69.824219\" xlink:href=\"#DejaVuSans-6c\"/>\r\n      <use x=\"97.607422\" xlink:href=\"#DejaVuSans-6f\"/>\r\n      <use x=\"158.789062\" xlink:href=\"#DejaVuSans-73\"/>\r\n      <use x=\"210.888672\" xlink:href=\"#DejaVuSans-65\"/>\r\n     </g>\r\n    </g>\r\n   </g>\r\n  </g>\r\n </g>\r\n <defs>\r\n  <clipPath id=\"pc2bd62e843\">\r\n   <rect height=\"543.6\" width=\"1116\" x=\"33.2875\" y=\"7.2\"/>\r\n  </clipPath>\r\n </defs>\r\n</svg>\r\n",
      "image/png": "[encoded data removed]"
     },
     "metadata": {
      "needs_background": "light"
     }
    }
   ],
   "source": [
    "df2021=df2021.sort_values(by='Date',ignore_index=True)\n",
    "df2021.plot.bar(figsize=(20,10),x='Date',y=['Open','High','Low','Close'])"
   ]
  },
  {
   "cell_type": "code",
   "execution_count": 14,
   "metadata": {},
   "outputs": [
    {
     "output_type": "display_data",
     "data": {
      "application/vnd.plotly.v1+json": {
       "config": {
        "plotlyServerURL": "https://plot.ly"
       },
       "data": [
        {
         "close": [
          528.2100219726562,
          502.80999755859375,
          513.469970703125,
          521.6599731445312,
          538.8499755859375,
          532.3900146484375,
          540.72998046875,
          490.70001220703125,
          475.739990234375,
          500.0299987792969,
          529.5599975585938,
          488.8800048828125,
          455.0400085449219,
          419.7300109863281,
          419.8500061035156,
          375.5,
          369.0299987792969,
          345.0899963378906,
          323.57000732421875,
          314.6600036621094,
          287.4100036621094,
          267.6199951171875,
          293.75,
          322.989990234375,
          367.32000732421875,
          343.2799987792969,
          370.5400085449219,
          356.55999755859375,
          358.1000061035156,
          339.5,
          267.6600036621094,
          286.1300048828125,
          301.7799987792969,
          374.1300048828125,
          367.67999267578125,
          337.45001220703125,
          391.42999267578125,
          351.6000061035156,
          312.4599914550781,
          295.3500061035156,
          291.3800048828125,
          270.29998779296875,
          191.9600067138672,
          187.5800018310547,
          196.42999267578125,
          181.35000610351562,
          174.7100067138672,
          181.66000366210938,
          149.41000366210938,
          163.07000732421875,
          152.1999969482422,
          147.80999755859375,
          142.1300048828125,
          140.7100067138672,
          123.80000305175781,
          117,
          124.87000274658203,
          98.55000305175781,
          97.44999694824219,
          91.25,
          91.4800033569336,
          102.56999969482422,
          90.02999877929688,
          102.2300033569336,
          93.41000366210938,
          91.83999633789062,
          114.37999725341797,
          123.33000183105469,
          108.37999725341797,
          103.26000213623047
         ],
         "high": [
          536.1300048828125,
          518.9500122070312,
          563.5599975585938,
          556.989990234375,
          566.6500244140625,
          593.2899780273438,
          545.5,
          518.72998046875,
          572.489990234375,
          557.3900146484375,
          549.0399780273438,
          575.3699951171875,
          474.010009765625,
          458.9700012207031,
          449.5199890136719,
          393.5199890136719,
          392.95001220703125,
          359.8500061035156,
          338,
          316.82000732421875,
          308.75,
          301.54998779296875,
          328.5799865722656,
          384.760009765625,
          375,
          385.989990234375,
          384.79998779296875,
          379,
          371.489990234375,
          358.8500061035156,
          298.7200012207031,
          332.04998779296875,
          386.79998779296875,
          383.20001220703125,
          376.80999755859375,
          419.7699890136719,
          423.2099914550781,
          356.1000061035156,
          338.82000732421875,
          333.9800109863281,
          297.3599853515625,
          286.80999755859375,
          194.49000549316406,
          202.47999572753906,
          204.3800048828125,
          189.9499969482422,
          184.6199951171875,
          191.5,
          166.8699951171875,
          164.75,
          153.52000427246094,
          148.2899932861328,
          145.9499969482422,
          143.4600067138672,
          129.07000732421875,
          125.83000183105469,
          129.2899932861328,
          100.3499984741211,
          98.8499984741211,
          101.2699966430664,
          102.1500015258789,
          104,
          111.8499984741211,
          104.91000366210938,
          97.4800033569336,
          122.18000030517578,
          133.27000427246094,
          126.5999984741211,
          115.83000183105469,
          111.23999786376953
         ],
         "low": [
          482.1400146484375,
          478.5400085449219,
          499,
          492.8500061035156,
          518.280029296875,
          485.6700134277344,
          491.2900085449219,
          463.4100036621094,
          472.2099914550781,
          458.6000061035156,
          466.54998779296875,
          454,
          404.25,
          397.8599853515625,
          357.510009765625,
          290.25,
          346.2799987792969,
          321.20001220703125,
          292.0199890136719,
          281.1400146484375,
          257.010009765625,
          252.27999877929688,
          287.20001220703125,
          305.80999755859375,
          332.6499938964844,
          341.3900146484375,
          342.2699890136719,
          342.4700012207031,
          336.5,
          256.5799865722656,
          231.22999572753906,
          250,
          271.2099914550781,
          335.8299865722656,
          310.92999267578125,
          328,
          352.82000732421875,
          305.7300109863281,
          271.2200012207031,
          275.8999938964844,
          236.11000061035156,
          195.4199981689453,
          178.3800048828125,
          184.32000732421875,
          176.5800018310547,
          172.44000244140625,
          164.22999572753906,
          144.25,
          147.3000030517578,
          151.61000061035156,
          138.66000366210938,
          138.25999450683594,
          139.0500030517578,
          124.30999755859375,
          113.94999694824219,
          110.68000030517578,
          97.62999725341797,
          93.26000213623047,
          90.5,
          84.5,
          84.80999755859375,
          85.73999786376953,
          88.20999908447266,
          93.61000061035156,
          79.94999694824219,
          90.11000061035156,
          113.8499984741211,
          101.86000061035156,
          96.26000213623047,
          93.55000305175781
         ],
         "open": [
          504.010009765625,
          512.6500244140625,
          529.9299926757812,
          545.5700073242188,
          536.7899780273438,
          539,
          492.3399963378906,
          478.8699951171875,
          506.0299987792969,
          532.5999755859375,
          490.8599853515625,
          454,
          418.8299865722656,
          415.1000061035156,
          376.04998779296875,
          373.1099853515625,
          347.239990234375,
          326.1000061035156,
          314.3900146484375,
          288.70001220703125,
          267.3500061035156,
          290.82000732421875,
          324.25,
          373.5,
          343.55999755859375,
          374,
          359,
          362.260009765625,
          337.17999267578125,
          259.2799987792969,
          293.19000244140625,
          304.5899963378906,
          375.8500061035156,
          366.4700012207031,
          335.8699951171875,
          385.45001220703125,
          353.8800048828125,
          310.3599853515625,
          291.94000244140625,
          292.75,
          266.4100036621094,
          196.10000610351562,
          186.99000549316406,
          197.24000549316406,
          182.11000061035156,
          175.5500030517578,
          182.49000549316406,
          149.8000030517578,
          163.52000427246094,
          151.91000366210938,
          146.6999969482422,
          142.83999633789062,
          141.1999969482422,
          124.95999908447266,
          117.5199966430664,
          124.9800033569336,
          98,
          97.80999755859375,
          91.2300033569336,
          95,
          101.5,
          90.41000366210938,
          102.93000030517578,
          94.58000183105469,
          91.79000091552734,
          109,
          124.47000122070312,
          109.19999694824219,
          102.91000366210938,
          109.3499984741211
         ],
         "type": "candlestick",
         "x": [
          "2021-06-01T00:00:00",
          "2021-05-01T00:00:00",
          "2021-04-01T00:00:00",
          "2021-03-01T00:00:00",
          "2021-02-01T00:00:00",
          "2021-01-01T00:00:00",
          "2020-12-01T00:00:00",
          "2020-11-01T00:00:00",
          "2020-10-01T00:00:00",
          "2020-09-01T00:00:00",
          "2020-08-01T00:00:00",
          "2020-07-01T00:00:00",
          "2020-06-01T00:00:00",
          "2020-05-01T00:00:00",
          "2020-04-01T00:00:00",
          "2020-03-01T00:00:00",
          "2020-02-01T00:00:00",
          "2020-01-01T00:00:00",
          "2019-12-01T00:00:00",
          "2019-11-01T00:00:00",
          "2019-10-01T00:00:00",
          "2019-09-01T00:00:00",
          "2019-08-01T00:00:00",
          "2019-07-01T00:00:00",
          "2019-06-01T00:00:00",
          "2019-05-01T00:00:00",
          "2019-04-01T00:00:00",
          "2019-03-01T00:00:00",
          "2019-02-01T00:00:00",
          "2019-01-01T00:00:00",
          "2018-12-01T00:00:00",
          "2018-11-01T00:00:00",
          "2018-10-01T00:00:00",
          "2018-09-01T00:00:00",
          "2018-08-01T00:00:00",
          "2018-07-01T00:00:00",
          "2018-06-01T00:00:00",
          "2018-05-01T00:00:00",
          "2018-04-01T00:00:00",
          "2018-03-01T00:00:00",
          "2018-02-01T00:00:00",
          "2018-01-01T00:00:00",
          "2017-12-01T00:00:00",
          "2017-11-01T00:00:00",
          "2017-10-01T00:00:00",
          "2017-09-01T00:00:00",
          "2017-08-01T00:00:00",
          "2017-07-01T00:00:00",
          "2017-06-01T00:00:00",
          "2017-05-01T00:00:00",
          "2017-04-01T00:00:00",
          "2017-03-01T00:00:00",
          "2017-02-01T00:00:00",
          "2017-01-01T00:00:00",
          "2016-12-01T00:00:00",
          "2016-11-01T00:00:00",
          "2016-10-01T00:00:00",
          "2016-09-01T00:00:00",
          "2016-08-01T00:00:00",
          "2016-07-01T00:00:00",
          "2016-06-01T00:00:00",
          "2016-05-01T00:00:00",
          "2016-04-01T00:00:00",
          "2016-03-01T00:00:00",
          "2016-02-01T00:00:00",
          "2016-01-01T00:00:00",
          "2015-12-01T00:00:00",
          "2015-11-01T00:00:00",
          "2015-10-01T00:00:00",
          "2015-09-01T00:00:00"
         ]
        }
       ],
       "layout": {
        "height": 800,
        "template": {
         "data": {
          "bar": [
           {
            "error_x": {
             "color": "#2a3f5f"
            },
            "error_y": {
             "color": "#2a3f5f"
            },
            "marker": {
             "line": {
              "color": "#E5ECF6",
              "width": 0.5
             },
             "pattern": {
              "fillmode": "overlay",
              "size": 10,
              "solidity": 0.2
             }
            },
            "type": "bar"
           }
          ],
          "barpolar": [
           {
            "marker": {
             "line": {
              "color": "#E5ECF6",
              "width": 0.5
             },
             "pattern": {
              "fillmode": "overlay",
              "size": 10,
              "solidity": 0.2
             }
            },
            "type": "barpolar"
           }
          ],
          "carpet": [
           {
            "aaxis": {
             "endlinecolor": "#2a3f5f",
             "gridcolor": "white",
             "linecolor": "white",
             "minorgridcolor": "white",
             "startlinecolor": "#2a3f5f"
            },
            "baxis": {
             "endlinecolor": "#2a3f5f",
             "gridcolor": "white",
             "linecolor": "white",
             "minorgridcolor": "white",
             "startlinecolor": "#2a3f5f"
            },
            "type": "carpet"
           }
          ],
          "choropleth": [
           {
            "colorbar": {
             "outlinewidth": 0,
             "ticks": ""
            },
            "type": "choropleth"
           }
          ],
          "contour": [
           {
            "colorbar": {
             "outlinewidth": 0,
             "ticks": ""
            },
            "colorscale": [
             [
              0,
              "#0d0887"
             ],
             [
              0.1111111111111111,
              "#46039f"
             ],
             [
              0.2222222222222222,
              "#7201a8"
             ],
             [
              0.3333333333333333,
              "#9c179e"
             ],
             [
              0.4444444444444444,
              "#bd3786"
             ],
             [
              0.5555555555555556,
              "#d8576b"
             ],
             [
              0.6666666666666666,
              "#ed7953"
             ],
             [
              0.7777777777777778,
              "#fb9f3a"
             ],
             [
              0.8888888888888888,
              "#fdca26"
             ],
             [
              1,
              "#f0f921"
             ]
            ],
            "type": "contour"
           }
          ],
          "contourcarpet": [
           {
            "colorbar": {
             "outlinewidth": 0,
             "ticks": ""
            },
            "type": "contourcarpet"
           }
          ],
          "heatmap": [
           {
            "colorbar": {
             "outlinewidth": 0,
             "ticks": ""
            },
            "colorscale": [
             [
              0,
              "#0d0887"
             ],
             [
              0.1111111111111111,
              "#46039f"
             ],
             [
              0.2222222222222222,
              "#7201a8"
             ],
             [
              0.3333333333333333,
              "#9c179e"
             ],
             [
              0.4444444444444444,
              "#bd3786"
             ],
             [
              0.5555555555555556,
              "#d8576b"
             ],
             [
              0.6666666666666666,
              "#ed7953"
             ],
             [
              0.7777777777777778,
              "#fb9f3a"
             ],
             [
              0.8888888888888888,
              "#fdca26"
             ],
             [
              1,
              "#f0f921"
             ]
            ],
            "type": "heatmap"
           }
          ],
          "heatmapgl": [
           {
            "colorbar": {
             "outlinewidth": 0,
             "ticks": ""
            },
            "colorscale": [
             [
              0,
              "#0d0887"
             ],
             [
              0.1111111111111111,
              "#46039f"
             ],
             [
              0.2222222222222222,
              "#7201a8"
             ],
             [
              0.3333333333333333,
              "#9c179e"
             ],
             [
              0.4444444444444444,
              "#bd3786"
             ],
             [
              0.5555555555555556,
              "#d8576b"
             ],
             [
              0.6666666666666666,
              "#ed7953"
             ],
             [
              0.7777777777777778,
              "#fb9f3a"
             ],
             [
              0.8888888888888888,
              "#fdca26"
             ],
             [
              1,
              "#f0f921"
             ]
            ],
            "type": "heatmapgl"
           }
          ],
          "histogram": [
           {
            "marker": {
             "pattern": {
              "fillmode": "overlay",
              "size": 10,
              "solidity": 0.2
             }
            },
            "type": "histogram"
           }
          ],
          "histogram2d": [
           {
            "colorbar": {
             "outlinewidth": 0,
             "ticks": ""
            },
            "colorscale": [
             [
              0,
              "#0d0887"
             ],
             [
              0.1111111111111111,
              "#46039f"
             ],
             [
              0.2222222222222222,
              "#7201a8"
             ],
             [
              0.3333333333333333,
              "#9c179e"
             ],
             [
              0.4444444444444444,
              "#bd3786"
             ],
             [
              0.5555555555555556,
              "#d8576b"
             ],
             [
              0.6666666666666666,
              "#ed7953"
             ],
             [
              0.7777777777777778,
              "#fb9f3a"
             ],
             [
              0.8888888888888888,
              "#fdca26"
             ],
             [
              1,
              "#f0f921"
             ]
            ],
            "type": "histogram2d"
           }
          ],
          "histogram2dcontour": [
           {
            "colorbar": {
             "outlinewidth": 0,
             "ticks": ""
            },
            "colorscale": [
             [
              0,
              "#0d0887"
             ],
             [
              0.1111111111111111,
              "#46039f"
             ],
             [
              0.2222222222222222,
              "#7201a8"
             ],
             [
              0.3333333333333333,
              "#9c179e"
             ],
             [
              0.4444444444444444,
              "#bd3786"
             ],
             [
              0.5555555555555556,
              "#d8576b"
             ],
             [
              0.6666666666666666,
              "#ed7953"
             ],
             [
              0.7777777777777778,
              "#fb9f3a"
             ],
             [
              0.8888888888888888,
              "#fdca26"
             ],
             [
              1,
              "#f0f921"
             ]
            ],
            "type": "histogram2dcontour"
           }
          ],
          "mesh3d": [
           {
            "colorbar": {
             "outlinewidth": 0,
             "ticks": ""
            },
            "type": "mesh3d"
           }
          ],
          "parcoords": [
           {
            "line": {
             "colorbar": {
              "outlinewidth": 0,
              "ticks": ""
             }
            },
            "type": "parcoords"
           }
          ],
          "pie": [
           {
            "automargin": true,
            "type": "pie"
           }
          ],
          "scatter": [
           {
            "marker": {
             "colorbar": {
              "outlinewidth": 0,
              "ticks": ""
             }
            },
            "type": "scatter"
           }
          ],
          "scatter3d": [
           {
            "line": {
             "colorbar": {
              "outlinewidth": 0,
              "ticks": ""
             }
            },
            "marker": {
             "colorbar": {
              "outlinewidth": 0,
              "ticks": ""
             }
            },
            "type": "scatter3d"
           }
          ],
          "scattercarpet": [
           {
            "marker": {
             "colorbar": {
              "outlinewidth": 0,
              "ticks": ""
             }
            },
            "type": "scattercarpet"
           }
          ],
          "scattergeo": [
           {
            "marker": {
             "colorbar": {
              "outlinewidth": 0,
              "ticks": ""
             }
            },
            "type": "scattergeo"
           }
          ],
          "scattergl": [
           {
            "marker": {
             "colorbar": {
              "outlinewidth": 0,
              "ticks": ""
             }
            },
            "type": "scattergl"
           }
          ],
          "scattermapbox": [
           {
            "marker": {
             "colorbar": {
              "outlinewidth": 0,
              "ticks": ""
             }
            },
            "type": "scattermapbox"
           }
          ],
          "scatterpolar": [
           {
            "marker": {
             "colorbar": {
              "outlinewidth": 0,
              "ticks": ""
             }
            },
            "type": "scatterpolar"
           }
          ],
          "scatterpolargl": [
           {
            "marker": {
             "colorbar": {
              "outlinewidth": 0,
              "ticks": ""
             }
            },
            "type": "scatterpolargl"
           }
          ],
          "scatterternary": [
           {
            "marker": {
             "colorbar": {
              "outlinewidth": 0,
              "ticks": ""
             }
            },
            "type": "scatterternary"
           }
          ],
          "surface": [
           {
            "colorbar": {
             "outlinewidth": 0,
             "ticks": ""
            },
            "colorscale": [
             [
              0,
              "#0d0887"
             ],
             [
              0.1111111111111111,
              "#46039f"
             ],
             [
              0.2222222222222222,
              "#7201a8"
             ],
             [
              0.3333333333333333,
              "#9c179e"
             ],
             [
              0.4444444444444444,
              "#bd3786"
             ],
             [
              0.5555555555555556,
              "#d8576b"
             ],
             [
              0.6666666666666666,
              "#ed7953"
             ],
             [
              0.7777777777777778,
              "#fb9f3a"
             ],
             [
              0.8888888888888888,
              "#fdca26"
             ],
             [
              1,
              "#f0f921"
             ]
            ],
            "type": "surface"
           }
          ],
          "table": [
           {
            "cells": {
             "fill": {
              "color": "#EBF0F8"
             },
             "line": {
              "color": "white"
             }
            },
            "header": {
             "fill": {
              "color": "#C8D4E3"
             },
             "line": {
              "color": "white"
             }
            },
            "type": "table"
           }
          ]
         },
         "layout": {
          "annotationdefaults": {
           "arrowcolor": "#2a3f5f",
           "arrowhead": 0,
           "arrowwidth": 1
          },
          "autotypenumbers": "strict",
          "coloraxis": {
           "colorbar": {
            "outlinewidth": 0,
            "ticks": ""
           }
          },
          "colorscale": {
           "diverging": [
            [
             0,
             "#8e0152"
            ],
            [
             0.1,
             "#c51b7d"
            ],
            [
             0.2,
             "#de77ae"
            ],
            [
             0.3,
             "#f1b6da"
            ],
            [
             0.4,
             "#fde0ef"
            ],
            [
             0.5,
             "#f7f7f7"
            ],
            [
             0.6,
             "#e6f5d0"
            ],
            [
             0.7,
             "#b8e186"
            ],
            [
             0.8,
             "#7fbc41"
            ],
            [
             0.9,
             "#4d9221"
            ],
            [
             1,
             "#276419"
            ]
           ],
           "sequential": [
            [
             0,
             "#0d0887"
            ],
            [
             0.1111111111111111,
             "#46039f"
            ],
            [
             0.2222222222222222,
             "#7201a8"
            ],
            [
             0.3333333333333333,
             "#9c179e"
            ],
            [
             0.4444444444444444,
             "#bd3786"
            ],
            [
             0.5555555555555556,
             "#d8576b"
            ],
            [
             0.6666666666666666,
             "#ed7953"
            ],
            [
             0.7777777777777778,
             "#fb9f3a"
            ],
            [
             0.8888888888888888,
             "#fdca26"
            ],
            [
             1,
             "#f0f921"
            ]
           ],
           "sequentialminus": [
            [
             0,
             "#0d0887"
            ],
            [
             0.1111111111111111,
             "#46039f"
            ],
            [
             0.2222222222222222,
             "#7201a8"
            ],
            [
             0.3333333333333333,
             "#9c179e"
            ],
            [
             0.4444444444444444,
             "#bd3786"
            ],
            [
             0.5555555555555556,
             "#d8576b"
            ],
            [
             0.6666666666666666,
             "#ed7953"
            ],
            [
             0.7777777777777778,
             "#fb9f3a"
            ],
            [
             0.8888888888888888,
             "#fdca26"
            ],
            [
             1,
             "#f0f921"
            ]
           ]
          },
          "colorway": [
           "#636efa",
           "#EF553B",
           "#00cc96",
           "#ab63fa",
           "#FFA15A",
           "#19d3f3",
           "#FF6692",
           "#B6E880",
           "#FF97FF",
           "#FECB52"
          ],
          "font": {
           "color": "#2a3f5f"
          },
          "geo": {
           "bgcolor": "white",
           "lakecolor": "white",
           "landcolor": "#E5ECF6",
           "showlakes": true,
           "showland": true,
           "subunitcolor": "white"
          },
          "hoverlabel": {
           "align": "left"
          },
          "hovermode": "closest",
          "mapbox": {
           "style": "light"
          },
          "paper_bgcolor": "white",
          "plot_bgcolor": "#E5ECF6",
          "polar": {
           "angularaxis": {
            "gridcolor": "white",
            "linecolor": "white",
            "ticks": ""
           },
           "bgcolor": "#E5ECF6",
           "radialaxis": {
            "gridcolor": "white",
            "linecolor": "white",
            "ticks": ""
           }
          },
          "scene": {
           "xaxis": {
            "backgroundcolor": "#E5ECF6",
            "gridcolor": "white",
            "gridwidth": 2,
            "linecolor": "white",
            "showbackground": true,
            "ticks": "",
            "zerolinecolor": "white"
           },
           "yaxis": {
            "backgroundcolor": "#E5ECF6",
            "gridcolor": "white",
            "gridwidth": 2,
            "linecolor": "white",
            "showbackground": true,
            "ticks": "",
            "zerolinecolor": "white"
           },
           "zaxis": {
            "backgroundcolor": "#E5ECF6",
            "gridcolor": "white",
            "gridwidth": 2,
            "linecolor": "white",
            "showbackground": true,
            "ticks": "",
            "zerolinecolor": "white"
           }
          },
          "shapedefaults": {
           "line": {
            "color": "#2a3f5f"
           }
          },
          "ternary": {
           "aaxis": {
            "gridcolor": "white",
            "linecolor": "white",
            "ticks": ""
           },
           "baxis": {
            "gridcolor": "white",
            "linecolor": "white",
            "ticks": ""
           },
           "bgcolor": "#E5ECF6",
           "caxis": {
            "gridcolor": "white",
            "linecolor": "white",
            "ticks": ""
           }
          },
          "title": {
           "x": 0.05
          },
          "xaxis": {
           "automargin": true,
           "gridcolor": "white",
           "linecolor": "white",
           "ticks": "",
           "title": {
            "standoff": 15
           },
           "zerolinecolor": "white",
           "zerolinewidth": 2
          },
          "yaxis": {
           "automargin": true,
           "gridcolor": "white",
           "linecolor": "white",
           "ticks": "",
           "title": {
            "standoff": 15
           },
           "zerolinecolor": "white",
           "zerolinewidth": 2
          }
         }
        },
        "title": {
         "text": "STOCK DATA FOR NETFLIX"
        },
        "width": 1200,
        "xaxis": {
         "rangeslider": {
          "visible": false
         }
        },
        "yaxis": {
         "title": {
          "text": "NETFLIX Stock"
         }
        }
       }
      }
     },
     "metadata": {}
    }
   ],
   "source": [
    "#Creating Candlestick chart using Plotly\n",
    "fig = go.Figure(data=[go.Candlestick(x=df1['Date'],\n",
    "                open=df1['Open'],\n",
    "                high=df1['High'],\n",
    "                low=df1['Low'],\n",
    "                close=df1['Close'])])\n",
    "fig.update_layout(xaxis_rangeslider_visible=False,yaxis_title='NETFLIX Stock',title='STOCK DATA FOR NETFLIX',width=1200, height=800)\n",
    "fig.show()"
   ]
  },
  {
   "source": [
    "<img src=\"plotly.png\"></img>"
   ],
   "cell_type": "markdown",
   "metadata": {}
  },
  {
   "source": [
    "<h1>THANK YOU</h1>"
   ],
   "cell_type": "markdown",
   "metadata": {}
  }
 ]
}